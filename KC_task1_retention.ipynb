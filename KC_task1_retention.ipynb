{
 "cells": [
  {
   "cell_type": "markdown",
   "id": "b74edf5a",
   "metadata": {},
   "source": [
    "Представьте, что вы работаете в компании, которая разрабатывает мобильные игры. К вам пришел менеджер с рядом задач по исследованию нескольких аспектов мобильного приложения:"
   ]
  },
  {
   "cell_type": "markdown",
   "id": "4a73807a",
   "metadata": {},
   "source": [
    "Задание 1\n",
    "\n",
    "Retention – один из самых важных показателей в компании. Ваша задача – написать функцию, которая будет считать retention игроков (по дням от даты регистрации игрока)."
   ]
  },
  {
   "cell_type": "code",
   "execution_count": 1,
   "id": "aea2f137",
   "metadata": {},
   "outputs": [],
   "source": [
    "import pandas as pd\n",
    "import numpy as np\n",
    "\n",
    "from datetime import datetime, date\n",
    "\n",
    "import matplotlib.pyplot as plt\n",
    "import seaborn as sns\n",
    "%matplotlib inline"
   ]
  },
  {
   "cell_type": "markdown",
   "id": "e9b35f0d",
   "metadata": {},
   "source": [
    "Считываем и изучаем данные"
   ]
  },
  {
   "cell_type": "code",
   "execution_count": 2,
   "id": "8cf47a6d",
   "metadata": {},
   "outputs": [],
   "source": [
    "reg_data = pd.read_csv('C:/Users/makog/KC lessons/jupyter-s-makogon _from_KC/shared/problem1-reg_data.csv', sep=';')"
   ]
  },
  {
   "cell_type": "code",
   "execution_count": 3,
   "id": "719c60b4",
   "metadata": {},
   "outputs": [
    {
     "data": {
      "text/html": [
       "<div>\n",
       "<style scoped>\n",
       "    .dataframe tbody tr th:only-of-type {\n",
       "        vertical-align: middle;\n",
       "    }\n",
       "\n",
       "    .dataframe tbody tr th {\n",
       "        vertical-align: top;\n",
       "    }\n",
       "\n",
       "    .dataframe thead th {\n",
       "        text-align: right;\n",
       "    }\n",
       "</style>\n",
       "<table border=\"1\" class=\"dataframe\">\n",
       "  <thead>\n",
       "    <tr style=\"text-align: right;\">\n",
       "      <th></th>\n",
       "      <th>reg_ts</th>\n",
       "      <th>uid</th>\n",
       "    </tr>\n",
       "  </thead>\n",
       "  <tbody>\n",
       "    <tr>\n",
       "      <th>999995</th>\n",
       "      <td>1600874034</td>\n",
       "      <td>1110618</td>\n",
       "    </tr>\n",
       "    <tr>\n",
       "      <th>999996</th>\n",
       "      <td>1600874086</td>\n",
       "      <td>1110619</td>\n",
       "    </tr>\n",
       "    <tr>\n",
       "      <th>999997</th>\n",
       "      <td>1600874139</td>\n",
       "      <td>1110620</td>\n",
       "    </tr>\n",
       "    <tr>\n",
       "      <th>999998</th>\n",
       "      <td>1600874191</td>\n",
       "      <td>1110621</td>\n",
       "    </tr>\n",
       "    <tr>\n",
       "      <th>999999</th>\n",
       "      <td>1600874244</td>\n",
       "      <td>1110622</td>\n",
       "    </tr>\n",
       "  </tbody>\n",
       "</table>\n",
       "</div>"
      ],
      "text/plain": [
       "            reg_ts      uid\n",
       "999995  1600874034  1110618\n",
       "999996  1600874086  1110619\n",
       "999997  1600874139  1110620\n",
       "999998  1600874191  1110621\n",
       "999999  1600874244  1110622"
      ]
     },
     "execution_count": 3,
     "metadata": {},
     "output_type": "execute_result"
    }
   ],
   "source": [
    "reg_data.tail()"
   ]
  },
  {
   "cell_type": "code",
   "execution_count": 4,
   "id": "6f3ec36e",
   "metadata": {},
   "outputs": [
    {
     "data": {
      "text/plain": [
       "reg_ts    0\n",
       "uid       0\n",
       "dtype: int64"
      ]
     },
     "execution_count": 4,
     "metadata": {},
     "output_type": "execute_result"
    }
   ],
   "source": [
    "reg_data.isna().sum()"
   ]
  },
  {
   "cell_type": "code",
   "execution_count": 5,
   "id": "d033fe8f",
   "metadata": {},
   "outputs": [
    {
     "data": {
      "text/plain": [
       "0"
      ]
     },
     "execution_count": 5,
     "metadata": {},
     "output_type": "execute_result"
    }
   ],
   "source": [
    "reg_data.duplicated().sum()"
   ]
  },
  {
   "cell_type": "code",
   "execution_count": 6,
   "id": "372e2459",
   "metadata": {},
   "outputs": [
    {
     "data": {
      "text/plain": [
       "1000000"
      ]
     },
     "execution_count": 6,
     "metadata": {},
     "output_type": "execute_result"
    }
   ],
   "source": [
    "reg_data['uid'].nunique()"
   ]
  },
  {
   "cell_type": "code",
   "execution_count": null,
   "id": "cdeb6628",
   "metadata": {},
   "outputs": [],
   "source": []
  },
  {
   "cell_type": "code",
   "execution_count": 7,
   "id": "da7a1a48",
   "metadata": {},
   "outputs": [],
   "source": [
    "auth_data = pd.read_csv('C:/Users/makog/KC lessons/jupyter-s-makogon _from_KC/shared/problem1-auth_data.csv', sep=';')"
   ]
  },
  {
   "cell_type": "code",
   "execution_count": 8,
   "id": "773cdfd7",
   "metadata": {},
   "outputs": [
    {
     "data": {
      "text/plain": [
       "(9601013, 2)"
      ]
     },
     "execution_count": 8,
     "metadata": {},
     "output_type": "execute_result"
    }
   ],
   "source": [
    "auth_data.shape"
   ]
  },
  {
   "cell_type": "code",
   "execution_count": 9,
   "id": "98ad3550",
   "metadata": {},
   "outputs": [
    {
     "data": {
      "text/plain": [
       "auth_ts    0\n",
       "uid        0\n",
       "dtype: int64"
      ]
     },
     "execution_count": 9,
     "metadata": {},
     "output_type": "execute_result"
    }
   ],
   "source": [
    "auth_data.isna().sum()"
   ]
  },
  {
   "cell_type": "code",
   "execution_count": 10,
   "id": "f0d0a0f6",
   "metadata": {},
   "outputs": [
    {
     "data": {
      "text/plain": [
       "0"
      ]
     },
     "execution_count": 10,
     "metadata": {},
     "output_type": "execute_result"
    }
   ],
   "source": [
    "auth_data.duplicated().sum()"
   ]
  },
  {
   "cell_type": "code",
   "execution_count": 11,
   "id": "ebd2324c",
   "metadata": {},
   "outputs": [
    {
     "data": {
      "text/plain": [
       "1000000"
      ]
     },
     "execution_count": 11,
     "metadata": {},
     "output_type": "execute_result"
    }
   ],
   "source": [
    "reg_data['uid'].nunique()"
   ]
  },
  {
   "cell_type": "code",
   "execution_count": null,
   "id": "0fb98362",
   "metadata": {},
   "outputs": [],
   "source": []
  },
  {
   "cell_type": "code",
   "execution_count": 12,
   "id": "79d85129",
   "metadata": {},
   "outputs": [
    {
     "data": {
      "text/plain": [
       "0"
      ]
     },
     "execution_count": 12,
     "metadata": {},
     "output_type": "execute_result"
    }
   ],
   "source": [
    "# Проверим, нет ли среди пользователей тех, кто по какой-либо причине пропустил регистрацию - нет\n",
    "\n",
    "uid_reg = reg_data['uid'].unique()\n",
    "auth_data.query('uid not in @uid_reg').shape[0]"
   ]
  },
  {
   "cell_type": "code",
   "execution_count": null,
   "id": "90f15840",
   "metadata": {},
   "outputs": [],
   "source": []
  },
  {
   "cell_type": "code",
   "execution_count": 13,
   "id": "91241b39",
   "metadata": {},
   "outputs": [],
   "source": [
    "# Очевидно, вермя в Unix формате. Преобразуем:\n",
    "\n",
    "reg_data['reg_ts'] = pd.to_datetime(reg_data['reg_ts'], unit='s').dt.date"
   ]
  },
  {
   "cell_type": "code",
   "execution_count": 14,
   "id": "74cb74a0",
   "metadata": {},
   "outputs": [
    {
     "name": "stdout",
     "output_type": "stream",
     "text": [
      "1998-11-18\n",
      "2020-09-23\n"
     ]
    }
   ],
   "source": [
    "print(reg_data['reg_ts'].min())\n",
    "print(reg_data['reg_ts'].max())"
   ]
  },
  {
   "cell_type": "code",
   "execution_count": 15,
   "id": "03020b4b",
   "metadata": {},
   "outputs": [
    {
     "data": {
      "text/plain": [
       "<AxesSubplot:>"
      ]
     },
     "execution_count": 15,
     "metadata": {},
     "output_type": "execute_result"
    },
    {
     "data": {
      "image/png": "[encoded data removed]",
      "text/plain": [
       "<Figure size 432x288 with 1 Axes>"
      ]
     },
     "metadata": {
      "needs_background": "light"
     },
     "output_type": "display_data"
    }
   ],
   "source": [
    "# Посмотрим на распределение временного ряда - наше приложение на рынке уже более 20 лет, \n",
    "# кол-во регистраций экспоненциально растет\n",
    "\n",
    "reg_data['reg_ts'].hist(bins=20)"
   ]
  },
  {
   "cell_type": "code",
   "execution_count": 16,
   "id": "7612709e",
   "metadata": {},
   "outputs": [],
   "source": [
    "auth_data['auth_ts'] = pd.to_datetime(auth_data['auth_ts'], unit='s').dt.date"
   ]
  },
  {
   "cell_type": "code",
   "execution_count": 17,
   "id": "dbb1ac59",
   "metadata": {},
   "outputs": [
    {
     "name": "stdout",
     "output_type": "stream",
     "text": [
      "1998-11-18\n",
      "2020-09-23\n"
     ]
    }
   ],
   "source": [
    "print(auth_data['auth_ts'].min())\n",
    "print(auth_data['auth_ts'].max())"
   ]
  },
  {
   "cell_type": "code",
   "execution_count": 18,
   "id": "ed40f607",
   "metadata": {},
   "outputs": [
    {
     "data": {
      "text/plain": [
       "<AxesSubplot:>"
      ]
     },
     "execution_count": 18,
     "metadata": {},
     "output_type": "execute_result"
    },
    {
     "data": {
      "image/png": "[encoded data removed]",
      "text/plain": [
       "<Figure size 432x288 with 1 Axes>"
      ]
     },
     "metadata": {
      "needs_background": "light"
     },
     "output_type": "display_data"
    }
   ],
   "source": [
    "# Распределение данных по авторизациям согласуется с регистрацией\n",
    "\n",
    "auth_data['auth_ts'].hist(bins=20)"
   ]
  },
  {
   "cell_type": "code",
   "execution_count": null,
   "id": "592be6ab",
   "metadata": {},
   "outputs": [],
   "source": []
  },
  {
   "cell_type": "code",
   "execution_count": 19,
   "id": "2426fef1",
   "metadata": {},
   "outputs": [
    {
     "data": {
      "text/plain": [
       "(9601013, 3)"
      ]
     },
     "execution_count": 19,
     "metadata": {},
     "output_type": "execute_result"
    }
   ],
   "source": [
    "# Поджойним датасеты, используя inner join, т.к. в задаче обязательное условие - пользователь \n",
    "# д.б. зарегистрирован, хотя в нашем случае это выполняется на уровне данных\n",
    "\n",
    "df_all = auth_data.merge(reg_data, on='uid', how='inner')\n",
    "df_all.shape"
   ]
  },
  {
   "cell_type": "code",
   "execution_count": 20,
   "id": "e8bd0755",
   "metadata": {},
   "outputs": [
    {
     "data": {
      "text/html": [
       "<div>\n",
       "<style scoped>\n",
       "    .dataframe tbody tr th:only-of-type {\n",
       "        vertical-align: middle;\n",
       "    }\n",
       "\n",
       "    .dataframe tbody tr th {\n",
       "        vertical-align: top;\n",
       "    }\n",
       "\n",
       "    .dataframe thead th {\n",
       "        text-align: right;\n",
       "    }\n",
       "</style>\n",
       "<table border=\"1\" class=\"dataframe\">\n",
       "  <thead>\n",
       "    <tr style=\"text-align: right;\">\n",
       "      <th></th>\n",
       "      <th>auth_ts</th>\n",
       "      <th>uid</th>\n",
       "      <th>reg_ts</th>\n",
       "    </tr>\n",
       "  </thead>\n",
       "  <tbody>\n",
       "    <tr>\n",
       "      <th>0</th>\n",
       "      <td>1998-11-18</td>\n",
       "      <td>1</td>\n",
       "      <td>1998-11-18</td>\n",
       "    </tr>\n",
       "    <tr>\n",
       "      <th>1</th>\n",
       "      <td>1999-07-22</td>\n",
       "      <td>2</td>\n",
       "      <td>1999-07-22</td>\n",
       "    </tr>\n",
       "    <tr>\n",
       "      <th>2</th>\n",
       "      <td>1999-07-25</td>\n",
       "      <td>2</td>\n",
       "      <td>1999-07-22</td>\n",
       "    </tr>\n",
       "    <tr>\n",
       "      <th>3</th>\n",
       "      <td>1999-07-31</td>\n",
       "      <td>2</td>\n",
       "      <td>1999-07-22</td>\n",
       "    </tr>\n",
       "    <tr>\n",
       "      <th>4</th>\n",
       "      <td>1999-08-05</td>\n",
       "      <td>2</td>\n",
       "      <td>1999-07-22</td>\n",
       "    </tr>\n",
       "  </tbody>\n",
       "</table>\n",
       "</div>"
      ],
      "text/plain": [
       "      auth_ts  uid      reg_ts\n",
       "0  1998-11-18    1  1998-11-18\n",
       "1  1999-07-22    2  1999-07-22\n",
       "2  1999-07-25    2  1999-07-22\n",
       "3  1999-07-31    2  1999-07-22\n",
       "4  1999-08-05    2  1999-07-22"
      ]
     },
     "execution_count": 20,
     "metadata": {},
     "output_type": "execute_result"
    }
   ],
   "source": [
    "df_all.head()"
   ]
  },
  {
   "cell_type": "code",
   "execution_count": 21,
   "id": "8c6b903e",
   "metadata": {},
   "outputs": [
    {
     "data": {
      "text/plain": [
       "1          1\n",
       "740367     1\n",
       "740369     1\n",
       "740370     1\n",
       "740371     1\n",
       "          ..\n",
       "370253     1\n",
       "370254     1\n",
       "370255     1\n",
       "370257     1\n",
       "1110622    1\n",
       "Name: uid, Length: 1000000, dtype: int64"
      ]
     },
     "execution_count": 21,
     "metadata": {},
     "output_type": "execute_result"
    }
   ],
   "source": [
    "# В датасете нет повторных авторизаций в игре в день регистрации\n",
    "\n",
    "df_all[df_all['reg_ts'] == df_all['auth_ts']]['uid'].value_counts(ascending=True)"
   ]
  },
  {
   "cell_type": "code",
   "execution_count": 22,
   "id": "760aab42",
   "metadata": {},
   "outputs": [
    {
     "data": {
      "text/html": [
       "<div>\n",
       "<style scoped>\n",
       "    .dataframe tbody tr th:only-of-type {\n",
       "        vertical-align: middle;\n",
       "    }\n",
       "\n",
       "    .dataframe tbody tr th {\n",
       "        vertical-align: top;\n",
       "    }\n",
       "\n",
       "    .dataframe thead th {\n",
       "        text-align: right;\n",
       "    }\n",
       "</style>\n",
       "<table border=\"1\" class=\"dataframe\">\n",
       "  <thead>\n",
       "    <tr style=\"text-align: right;\">\n",
       "      <th></th>\n",
       "      <th>uid</th>\n",
       "      <th>auth_ts</th>\n",
       "      <th>reg_ts</th>\n",
       "    </tr>\n",
       "  </thead>\n",
       "  <tbody>\n",
       "    <tr>\n",
       "      <th>0</th>\n",
       "      <td>1</td>\n",
       "      <td>1998-11-18</td>\n",
       "      <td>1</td>\n",
       "    </tr>\n",
       "    <tr>\n",
       "      <th>6400671</th>\n",
       "      <td>416581</td>\n",
       "      <td>2020-05-10</td>\n",
       "      <td>1</td>\n",
       "    </tr>\n",
       "    <tr>\n",
       "      <th>6400672</th>\n",
       "      <td>416581</td>\n",
       "      <td>2020-05-12</td>\n",
       "      <td>1</td>\n",
       "    </tr>\n",
       "    <tr>\n",
       "      <th>6400673</th>\n",
       "      <td>416581</td>\n",
       "      <td>2020-05-13</td>\n",
       "      <td>1</td>\n",
       "    </tr>\n",
       "    <tr>\n",
       "      <th>6400674</th>\n",
       "      <td>416581</td>\n",
       "      <td>2020-05-16</td>\n",
       "      <td>1</td>\n",
       "    </tr>\n",
       "    <tr>\n",
       "      <th>...</th>\n",
       "      <td>...</td>\n",
       "      <td>...</td>\n",
       "      <td>...</td>\n",
       "    </tr>\n",
       "    <tr>\n",
       "      <th>3200338</th>\n",
       "      <td>141058</td>\n",
       "      <td>2018-12-13</td>\n",
       "      <td>1</td>\n",
       "    </tr>\n",
       "    <tr>\n",
       "      <th>3200339</th>\n",
       "      <td>141058</td>\n",
       "      <td>2018-12-19</td>\n",
       "      <td>1</td>\n",
       "    </tr>\n",
       "    <tr>\n",
       "      <th>3200340</th>\n",
       "      <td>141058</td>\n",
       "      <td>2018-12-26</td>\n",
       "      <td>1</td>\n",
       "    </tr>\n",
       "    <tr>\n",
       "      <th>3200324</th>\n",
       "      <td>141058</td>\n",
       "      <td>2018-10-14</td>\n",
       "      <td>1</td>\n",
       "    </tr>\n",
       "    <tr>\n",
       "      <th>9601012</th>\n",
       "      <td>1110622</td>\n",
       "      <td>2020-09-23</td>\n",
       "      <td>1</td>\n",
       "    </tr>\n",
       "  </tbody>\n",
       "</table>\n",
       "<p>9601013 rows × 3 columns</p>\n",
       "</div>"
      ],
      "text/plain": [
       "             uid     auth_ts  reg_ts\n",
       "0              1  1998-11-18       1\n",
       "6400671   416581  2020-05-10       1\n",
       "6400672   416581  2020-05-12       1\n",
       "6400673   416581  2020-05-13       1\n",
       "6400674   416581  2020-05-16       1\n",
       "...          ...         ...     ...\n",
       "3200338   141058  2018-12-13       1\n",
       "3200339   141058  2018-12-19       1\n",
       "3200340   141058  2018-12-26       1\n",
       "3200324   141058  2018-10-14       1\n",
       "9601012  1110622  2020-09-23       1\n",
       "\n",
       "[9601013 rows x 3 columns]"
      ]
     },
     "execution_count": 22,
     "metadata": {},
     "output_type": "execute_result"
    }
   ],
   "source": [
    "# Более того, в датасете в течении дня только одна авторизация\n",
    "\n",
    "df_all.groupby(['uid', 'auth_ts'], as_index=False)['reg_ts'].count().sort_values('reg_ts')"
   ]
  },
  {
   "cell_type": "code",
   "execution_count": null,
   "id": "85814177",
   "metadata": {},
   "outputs": [],
   "source": []
  },
  {
   "cell_type": "markdown",
   "id": "664f965d",
   "metadata": {},
   "source": [
    "Retention – главный показатель удержания пользователей.\n",
    "\n",
    "В индустрии мобильных игр и приложений Retention обычно считают на N-день со дня первого взаимодействия с продуктом.\n",
    "\n",
    "Например,\n",
    "\n",
    "Day 0 Retention – доля пользователей, совершавших второй вход в проект в течение суток после первого.\n",
    "(в нашем случае невозможно рассчитать, т.к. данные повторных визитов в течении суток отсутствуют)\n",
    " \n",
    "Day 1 Retention – доля пользователей, входивших в проект через 1 день после первого визита.\n",
    "\n",
    "Day 7 Retention – доля пользователей, входивших в проект через 7 дней после первого визита.\n",
    "\n",
    "Day 30 Retention – доля пользователей, входивших в проект через 30 дней после первого визита."
   ]
  },
  {
   "cell_type": "code",
   "execution_count": null,
   "id": "8805b24d",
   "metadata": {},
   "outputs": [],
   "source": []
  },
  {
   "cell_type": "markdown",
   "id": "bb231e4b",
   "metadata": {},
   "source": [
    "Наши данные содержат сведения более чем за 20 лет, что конечно круто, но для менеджера едва ли потребуется считать устаревшие метрики. От нас в задании требуется написать функцию, которая будет считать retention игроков. Полагаю, будет полезным предусмотреть возможность пользовательской настройки временных периодов."
   ]
  },
  {
   "cell_type": "code",
   "execution_count": 23,
   "id": "53b9aed5",
   "metadata": {},
   "outputs": [
    {
     "name": "stdout",
     "output_type": "stream",
     "text": [
      "Введите дату начала периода в формате YYYY-MM-DD: 2020-07-01\n",
      "Введите дату окончания периода в формате YYYY-MM-DD: 2020-07-15\n"
     ]
    }
   ],
   "source": [
    "# Введите дату начала и конца периода в формате <YYYY-MM-DD>\n",
    "\n",
    "date_start = pd.to_datetime(str(input('Введите дату начала периода в формате YYYY-MM-DD: '))).date()\n",
    "date_end = pd.to_datetime(str(input('Введите дату окончания периода в формате YYYY-MM-DD: '))).date()"
   ]
  },
  {
   "cell_type": "code",
   "execution_count": 24,
   "id": "5a36b49a",
   "metadata": {},
   "outputs": [],
   "source": [
    "# Отберем пользователей, зарегистрировавшихся в требуемых период\n",
    "\n",
    "reg_data_subset = reg_data.query(\"@date_start <= reg_ts <= @date_end\")"
   ]
  },
  {
   "cell_type": "code",
   "execution_count": 25,
   "id": "fd04112e",
   "metadata": {},
   "outputs": [
    {
     "data": {
      "text/html": [
       "<div>\n",
       "<style scoped>\n",
       "    .dataframe tbody tr th:only-of-type {\n",
       "        vertical-align: middle;\n",
       "    }\n",
       "\n",
       "    .dataframe tbody tr th {\n",
       "        vertical-align: top;\n",
       "    }\n",
       "\n",
       "    .dataframe thead th {\n",
       "        text-align: right;\n",
       "    }\n",
       "</style>\n",
       "<table border=\"1\" class=\"dataframe\">\n",
       "  <thead>\n",
       "    <tr style=\"text-align: right;\">\n",
       "      <th></th>\n",
       "      <th>reg_ts</th>\n",
       "      <th>uid</th>\n",
       "    </tr>\n",
       "  </thead>\n",
       "  <tbody>\n",
       "    <tr>\n",
       "      <th>870076</th>\n",
       "      <td>2020-07-01</td>\n",
       "      <td>966268</td>\n",
       "    </tr>\n",
       "    <tr>\n",
       "      <th>870077</th>\n",
       "      <td>2020-07-01</td>\n",
       "      <td>966269</td>\n",
       "    </tr>\n",
       "    <tr>\n",
       "      <th>870078</th>\n",
       "      <td>2020-07-01</td>\n",
       "      <td>966270</td>\n",
       "    </tr>\n",
       "    <tr>\n",
       "      <th>870079</th>\n",
       "      <td>2020-07-01</td>\n",
       "      <td>966271</td>\n",
       "    </tr>\n",
       "    <tr>\n",
       "      <th>870080</th>\n",
       "      <td>2020-07-01</td>\n",
       "      <td>966272</td>\n",
       "    </tr>\n",
       "    <tr>\n",
       "      <th>...</th>\n",
       "      <td>...</td>\n",
       "      <td>...</td>\n",
       "    </tr>\n",
       "    <tr>\n",
       "      <th>891799</th>\n",
       "      <td>2020-07-15</td>\n",
       "      <td>990462</td>\n",
       "    </tr>\n",
       "    <tr>\n",
       "      <th>891800</th>\n",
       "      <td>2020-07-15</td>\n",
       "      <td>990463</td>\n",
       "    </tr>\n",
       "    <tr>\n",
       "      <th>891801</th>\n",
       "      <td>2020-07-15</td>\n",
       "      <td>990464</td>\n",
       "    </tr>\n",
       "    <tr>\n",
       "      <th>891802</th>\n",
       "      <td>2020-07-15</td>\n",
       "      <td>990465</td>\n",
       "    </tr>\n",
       "    <tr>\n",
       "      <th>891803</th>\n",
       "      <td>2020-07-15</td>\n",
       "      <td>990467</td>\n",
       "    </tr>\n",
       "  </tbody>\n",
       "</table>\n",
       "<p>21728 rows × 2 columns</p>\n",
       "</div>"
      ],
      "text/plain": [
       "            reg_ts     uid\n",
       "870076  2020-07-01  966268\n",
       "870077  2020-07-01  966269\n",
       "870078  2020-07-01  966270\n",
       "870079  2020-07-01  966271\n",
       "870080  2020-07-01  966272\n",
       "...            ...     ...\n",
       "891799  2020-07-15  990462\n",
       "891800  2020-07-15  990463\n",
       "891801  2020-07-15  990464\n",
       "891802  2020-07-15  990465\n",
       "891803  2020-07-15  990467\n",
       "\n",
       "[21728 rows x 2 columns]"
      ]
     },
     "execution_count": 25,
     "metadata": {},
     "output_type": "execute_result"
    }
   ],
   "source": [
    "reg_data_subset"
   ]
  },
  {
   "cell_type": "code",
   "execution_count": 26,
   "id": "f2dccc3e",
   "metadata": {},
   "outputs": [],
   "source": [
    "df_period = auth_data.merge(reg_data_subset, on='uid', how='inner')"
   ]
  },
  {
   "cell_type": "code",
   "execution_count": 27,
   "id": "c51270d3",
   "metadata": {},
   "outputs": [
    {
     "data": {
      "text/html": [
       "<div>\n",
       "<style scoped>\n",
       "    .dataframe tbody tr th:only-of-type {\n",
       "        vertical-align: middle;\n",
       "    }\n",
       "\n",
       "    .dataframe tbody tr th {\n",
       "        vertical-align: top;\n",
       "    }\n",
       "\n",
       "    .dataframe thead th {\n",
       "        text-align: right;\n",
       "    }\n",
       "</style>\n",
       "<table border=\"1\" class=\"dataframe\">\n",
       "  <thead>\n",
       "    <tr style=\"text-align: right;\">\n",
       "      <th></th>\n",
       "      <th>auth_ts</th>\n",
       "      <th>uid</th>\n",
       "      <th>reg_ts</th>\n",
       "    </tr>\n",
       "  </thead>\n",
       "  <tbody>\n",
       "    <tr>\n",
       "      <th>0</th>\n",
       "      <td>2020-07-01</td>\n",
       "      <td>966268</td>\n",
       "      <td>2020-07-01</td>\n",
       "    </tr>\n",
       "    <tr>\n",
       "      <th>1</th>\n",
       "      <td>2020-07-01</td>\n",
       "      <td>966269</td>\n",
       "      <td>2020-07-01</td>\n",
       "    </tr>\n",
       "    <tr>\n",
       "      <th>2</th>\n",
       "      <td>2020-07-01</td>\n",
       "      <td>966270</td>\n",
       "      <td>2020-07-01</td>\n",
       "    </tr>\n",
       "    <tr>\n",
       "      <th>3</th>\n",
       "      <td>2020-07-01</td>\n",
       "      <td>966271</td>\n",
       "      <td>2020-07-01</td>\n",
       "    </tr>\n",
       "    <tr>\n",
       "      <th>4</th>\n",
       "      <td>2020-07-01</td>\n",
       "      <td>966272</td>\n",
       "      <td>2020-07-01</td>\n",
       "    </tr>\n",
       "    <tr>\n",
       "      <th>...</th>\n",
       "      <td>...</td>\n",
       "      <td>...</td>\n",
       "      <td>...</td>\n",
       "    </tr>\n",
       "    <tr>\n",
       "      <th>65907</th>\n",
       "      <td>2020-08-04</td>\n",
       "      <td>990463</td>\n",
       "      <td>2020-07-15</td>\n",
       "    </tr>\n",
       "    <tr>\n",
       "      <th>65908</th>\n",
       "      <td>2020-08-05</td>\n",
       "      <td>990463</td>\n",
       "      <td>2020-07-15</td>\n",
       "    </tr>\n",
       "    <tr>\n",
       "      <th>65909</th>\n",
       "      <td>2020-07-15</td>\n",
       "      <td>990464</td>\n",
       "      <td>2020-07-15</td>\n",
       "    </tr>\n",
       "    <tr>\n",
       "      <th>65910</th>\n",
       "      <td>2020-07-15</td>\n",
       "      <td>990465</td>\n",
       "      <td>2020-07-15</td>\n",
       "    </tr>\n",
       "    <tr>\n",
       "      <th>65911</th>\n",
       "      <td>2020-07-15</td>\n",
       "      <td>990467</td>\n",
       "      <td>2020-07-15</td>\n",
       "    </tr>\n",
       "  </tbody>\n",
       "</table>\n",
       "<p>65912 rows × 3 columns</p>\n",
       "</div>"
      ],
      "text/plain": [
       "          auth_ts     uid      reg_ts\n",
       "0      2020-07-01  966268  2020-07-01\n",
       "1      2020-07-01  966269  2020-07-01\n",
       "2      2020-07-01  966270  2020-07-01\n",
       "3      2020-07-01  966271  2020-07-01\n",
       "4      2020-07-01  966272  2020-07-01\n",
       "...           ...     ...         ...\n",
       "65907  2020-08-04  990463  2020-07-15\n",
       "65908  2020-08-05  990463  2020-07-15\n",
       "65909  2020-07-15  990464  2020-07-15\n",
       "65910  2020-07-15  990465  2020-07-15\n",
       "65911  2020-07-15  990467  2020-07-15\n",
       "\n",
       "[65912 rows x 3 columns]"
      ]
     },
     "execution_count": 27,
     "metadata": {},
     "output_type": "execute_result"
    }
   ],
   "source": [
    "df_period"
   ]
  },
  {
   "cell_type": "code",
   "execution_count": 28,
   "id": "4a803f3d",
   "metadata": {},
   "outputs": [],
   "source": [
    "# В нашем случае когортой пользователей будет день регистрации 'reg_ts'\n",
    "\n",
    "df_cohort = df_period.groupby(['reg_ts', 'auth_ts'], as_index=False)\\\n",
    "                    .agg({'uid': 'nunique'})\\\n",
    "                    .rename(columns={'uid': 'num_users'})"
   ]
  },
  {
   "cell_type": "code",
   "execution_count": 29,
   "id": "39ffc3e3",
   "metadata": {},
   "outputs": [],
   "source": [
    "# Посчитаем разницу в днях между авторизацией и регистрацией\n",
    "\n",
    "df_cohort['days_dif'] = df_cohort['auth_ts'] - df_cohort['reg_ts']\n",
    "df_cohort['days_dif'] = df_cohort['days_dif'].dt.days"
   ]
  },
  {
   "cell_type": "code",
   "execution_count": 30,
   "id": "a2690318",
   "metadata": {},
   "outputs": [
    {
     "name": "stdout",
     "output_type": "stream",
     "text": [
      "Введите верхнюю границу дней для retention: 15\n"
     ]
    }
   ],
   "source": [
    "# Предоставим возможность задавать количество дней для retention\n",
    "\n",
    "days_limit = int(input('Введите верхнюю границу дней для retention: '))\n",
    "\n",
    "df_cohort = df_cohort[df_cohort['days_dif'] <= days_limit]"
   ]
  },
  {
   "cell_type": "code",
   "execution_count": 31,
   "id": "b3cda055",
   "metadata": {},
   "outputs": [
    {
     "data": {
      "text/html": [
       "<div>\n",
       "<style scoped>\n",
       "    .dataframe tbody tr th:only-of-type {\n",
       "        vertical-align: middle;\n",
       "    }\n",
       "\n",
       "    .dataframe tbody tr th {\n",
       "        vertical-align: top;\n",
       "    }\n",
       "\n",
       "    .dataframe thead th {\n",
       "        text-align: right;\n",
       "    }\n",
       "</style>\n",
       "<table border=\"1\" class=\"dataframe\">\n",
       "  <thead>\n",
       "    <tr style=\"text-align: right;\">\n",
       "      <th></th>\n",
       "      <th>reg_ts</th>\n",
       "      <th>auth_ts</th>\n",
       "      <th>num_users</th>\n",
       "      <th>days_dif</th>\n",
       "    </tr>\n",
       "  </thead>\n",
       "  <tbody>\n",
       "    <tr>\n",
       "      <th>0</th>\n",
       "      <td>2020-07-01</td>\n",
       "      <td>2020-07-01</td>\n",
       "      <td>1432</td>\n",
       "      <td>0</td>\n",
       "    </tr>\n",
       "    <tr>\n",
       "      <th>1</th>\n",
       "      <td>2020-07-01</td>\n",
       "      <td>2020-07-02</td>\n",
       "      <td>27</td>\n",
       "      <td>1</td>\n",
       "    </tr>\n",
       "    <tr>\n",
       "      <th>2</th>\n",
       "      <td>2020-07-01</td>\n",
       "      <td>2020-07-03</td>\n",
       "      <td>66</td>\n",
       "      <td>2</td>\n",
       "    </tr>\n",
       "    <tr>\n",
       "      <th>3</th>\n",
       "      <td>2020-07-01</td>\n",
       "      <td>2020-07-04</td>\n",
       "      <td>63</td>\n",
       "      <td>3</td>\n",
       "    </tr>\n",
       "    <tr>\n",
       "      <th>4</th>\n",
       "      <td>2020-07-01</td>\n",
       "      <td>2020-07-05</td>\n",
       "      <td>80</td>\n",
       "      <td>4</td>\n",
       "    </tr>\n",
       "    <tr>\n",
       "      <th>5</th>\n",
       "      <td>2020-07-01</td>\n",
       "      <td>2020-07-06</td>\n",
       "      <td>89</td>\n",
       "      <td>5</td>\n",
       "    </tr>\n",
       "    <tr>\n",
       "      <th>6</th>\n",
       "      <td>2020-07-01</td>\n",
       "      <td>2020-07-07</td>\n",
       "      <td>97</td>\n",
       "      <td>6</td>\n",
       "    </tr>\n",
       "    <tr>\n",
       "      <th>7</th>\n",
       "      <td>2020-07-01</td>\n",
       "      <td>2020-07-08</td>\n",
       "      <td>98</td>\n",
       "      <td>7</td>\n",
       "    </tr>\n",
       "    <tr>\n",
       "      <th>8</th>\n",
       "      <td>2020-07-01</td>\n",
       "      <td>2020-07-09</td>\n",
       "      <td>70</td>\n",
       "      <td>8</td>\n",
       "    </tr>\n",
       "    <tr>\n",
       "      <th>9</th>\n",
       "      <td>2020-07-01</td>\n",
       "      <td>2020-07-10</td>\n",
       "      <td>77</td>\n",
       "      <td>9</td>\n",
       "    </tr>\n",
       "    <tr>\n",
       "      <th>10</th>\n",
       "      <td>2020-07-01</td>\n",
       "      <td>2020-07-11</td>\n",
       "      <td>69</td>\n",
       "      <td>10</td>\n",
       "    </tr>\n",
       "    <tr>\n",
       "      <th>11</th>\n",
       "      <td>2020-07-01</td>\n",
       "      <td>2020-07-12</td>\n",
       "      <td>67</td>\n",
       "      <td>11</td>\n",
       "    </tr>\n",
       "    <tr>\n",
       "      <th>12</th>\n",
       "      <td>2020-07-01</td>\n",
       "      <td>2020-07-13</td>\n",
       "      <td>69</td>\n",
       "      <td>12</td>\n",
       "    </tr>\n",
       "    <tr>\n",
       "      <th>13</th>\n",
       "      <td>2020-07-01</td>\n",
       "      <td>2020-07-14</td>\n",
       "      <td>76</td>\n",
       "      <td>13</td>\n",
       "    </tr>\n",
       "    <tr>\n",
       "      <th>14</th>\n",
       "      <td>2020-07-01</td>\n",
       "      <td>2020-07-15</td>\n",
       "      <td>66</td>\n",
       "      <td>14</td>\n",
       "    </tr>\n",
       "    <tr>\n",
       "      <th>15</th>\n",
       "      <td>2020-07-01</td>\n",
       "      <td>2020-07-16</td>\n",
       "      <td>72</td>\n",
       "      <td>15</td>\n",
       "    </tr>\n",
       "    <tr>\n",
       "      <th>85</th>\n",
       "      <td>2020-07-02</td>\n",
       "      <td>2020-07-02</td>\n",
       "      <td>1434</td>\n",
       "      <td>0</td>\n",
       "    </tr>\n",
       "    <tr>\n",
       "      <th>86</th>\n",
       "      <td>2020-07-02</td>\n",
       "      <td>2020-07-03</td>\n",
       "      <td>36</td>\n",
       "      <td>1</td>\n",
       "    </tr>\n",
       "    <tr>\n",
       "      <th>87</th>\n",
       "      <td>2020-07-02</td>\n",
       "      <td>2020-07-04</td>\n",
       "      <td>57</td>\n",
       "      <td>2</td>\n",
       "    </tr>\n",
       "    <tr>\n",
       "      <th>88</th>\n",
       "      <td>2020-07-02</td>\n",
       "      <td>2020-07-05</td>\n",
       "      <td>82</td>\n",
       "      <td>3</td>\n",
       "    </tr>\n",
       "  </tbody>\n",
       "</table>\n",
       "</div>"
      ],
      "text/plain": [
       "        reg_ts     auth_ts  num_users  days_dif\n",
       "0   2020-07-01  2020-07-01       1432         0\n",
       "1   2020-07-01  2020-07-02         27         1\n",
       "2   2020-07-01  2020-07-03         66         2\n",
       "3   2020-07-01  2020-07-04         63         3\n",
       "4   2020-07-01  2020-07-05         80         4\n",
       "5   2020-07-01  2020-07-06         89         5\n",
       "6   2020-07-01  2020-07-07         97         6\n",
       "7   2020-07-01  2020-07-08         98         7\n",
       "8   2020-07-01  2020-07-09         70         8\n",
       "9   2020-07-01  2020-07-10         77         9\n",
       "10  2020-07-01  2020-07-11         69        10\n",
       "11  2020-07-01  2020-07-12         67        11\n",
       "12  2020-07-01  2020-07-13         69        12\n",
       "13  2020-07-01  2020-07-14         76        13\n",
       "14  2020-07-01  2020-07-15         66        14\n",
       "15  2020-07-01  2020-07-16         72        15\n",
       "85  2020-07-02  2020-07-02       1434         0\n",
       "86  2020-07-02  2020-07-03         36         1\n",
       "87  2020-07-02  2020-07-04         57         2\n",
       "88  2020-07-02  2020-07-05         82         3"
      ]
     },
     "execution_count": 31,
     "metadata": {},
     "output_type": "execute_result"
    }
   ],
   "source": [
    "df_cohort.head(20)"
   ]
  },
  {
   "cell_type": "code",
   "execution_count": 32,
   "id": "3537b098",
   "metadata": {},
   "outputs": [],
   "source": [
    "cohort_pivot = df_cohort.pivot_table(index='reg_ts', columns='days_dif', values='num_users')"
   ]
  },
  {
   "cell_type": "code",
   "execution_count": 33,
   "id": "fed6ba92",
   "metadata": {
    "scrolled": true
   },
   "outputs": [
    {
     "data": {
      "text/html": [
       "<div>\n",
       "<style scoped>\n",
       "    .dataframe tbody tr th:only-of-type {\n",
       "        vertical-align: middle;\n",
       "    }\n",
       "\n",
       "    .dataframe tbody tr th {\n",
       "        vertical-align: top;\n",
       "    }\n",
       "\n",
       "    .dataframe thead th {\n",
       "        text-align: right;\n",
       "    }\n",
       "</style>\n",
       "<table border=\"1\" class=\"dataframe\">\n",
       "  <thead>\n",
       "    <tr style=\"text-align: right;\">\n",
       "      <th>days_dif</th>\n",
       "      <th>0</th>\n",
       "      <th>1</th>\n",
       "      <th>2</th>\n",
       "      <th>3</th>\n",
       "      <th>4</th>\n",
       "      <th>5</th>\n",
       "      <th>6</th>\n",
       "      <th>7</th>\n",
       "      <th>8</th>\n",
       "      <th>9</th>\n",
       "      <th>10</th>\n",
       "      <th>11</th>\n",
       "      <th>12</th>\n",
       "      <th>13</th>\n",
       "      <th>14</th>\n",
       "      <th>15</th>\n",
       "    </tr>\n",
       "    <tr>\n",
       "      <th>reg_ts</th>\n",
       "      <th></th>\n",
       "      <th></th>\n",
       "      <th></th>\n",
       "      <th></th>\n",
       "      <th></th>\n",
       "      <th></th>\n",
       "      <th></th>\n",
       "      <th></th>\n",
       "      <th></th>\n",
       "      <th></th>\n",
       "      <th></th>\n",
       "      <th></th>\n",
       "      <th></th>\n",
       "      <th></th>\n",
       "      <th></th>\n",
       "      <th></th>\n",
       "    </tr>\n",
       "  </thead>\n",
       "  <tbody>\n",
       "    <tr>\n",
       "      <th>2020-07-01</th>\n",
       "      <td>1432</td>\n",
       "      <td>27</td>\n",
       "      <td>66</td>\n",
       "      <td>63</td>\n",
       "      <td>80</td>\n",
       "      <td>89</td>\n",
       "      <td>97</td>\n",
       "      <td>98</td>\n",
       "      <td>70</td>\n",
       "      <td>77</td>\n",
       "      <td>69</td>\n",
       "      <td>67</td>\n",
       "      <td>69</td>\n",
       "      <td>76</td>\n",
       "      <td>66</td>\n",
       "      <td>72</td>\n",
       "    </tr>\n",
       "    <tr>\n",
       "      <th>2020-07-02</th>\n",
       "      <td>1434</td>\n",
       "      <td>36</td>\n",
       "      <td>57</td>\n",
       "      <td>82</td>\n",
       "      <td>64</td>\n",
       "      <td>97</td>\n",
       "      <td>97</td>\n",
       "      <td>77</td>\n",
       "      <td>89</td>\n",
       "      <td>63</td>\n",
       "      <td>77</td>\n",
       "      <td>71</td>\n",
       "      <td>78</td>\n",
       "      <td>72</td>\n",
       "      <td>63</td>\n",
       "      <td>71</td>\n",
       "    </tr>\n",
       "    <tr>\n",
       "      <th>2020-07-03</th>\n",
       "      <td>1437</td>\n",
       "      <td>30</td>\n",
       "      <td>59</td>\n",
       "      <td>69</td>\n",
       "      <td>73</td>\n",
       "      <td>80</td>\n",
       "      <td>92</td>\n",
       "      <td>96</td>\n",
       "      <td>74</td>\n",
       "      <td>80</td>\n",
       "      <td>78</td>\n",
       "      <td>73</td>\n",
       "      <td>75</td>\n",
       "      <td>84</td>\n",
       "      <td>70</td>\n",
       "      <td>73</td>\n",
       "    </tr>\n",
       "    <tr>\n",
       "      <th>2020-07-04</th>\n",
       "      <td>1439</td>\n",
       "      <td>32</td>\n",
       "      <td>72</td>\n",
       "      <td>62</td>\n",
       "      <td>89</td>\n",
       "      <td>92</td>\n",
       "      <td>91</td>\n",
       "      <td>96</td>\n",
       "      <td>72</td>\n",
       "      <td>75</td>\n",
       "      <td>73</td>\n",
       "      <td>69</td>\n",
       "      <td>80</td>\n",
       "      <td>75</td>\n",
       "      <td>67</td>\n",
       "      <td>62</td>\n",
       "    </tr>\n",
       "    <tr>\n",
       "      <th>2020-07-05</th>\n",
       "      <td>1441</td>\n",
       "      <td>32</td>\n",
       "      <td>61</td>\n",
       "      <td>59</td>\n",
       "      <td>74</td>\n",
       "      <td>94</td>\n",
       "      <td>106</td>\n",
       "      <td>80</td>\n",
       "      <td>70</td>\n",
       "      <td>78</td>\n",
       "      <td>80</td>\n",
       "      <td>90</td>\n",
       "      <td>59</td>\n",
       "      <td>72</td>\n",
       "      <td>67</td>\n",
       "      <td>67</td>\n",
       "    </tr>\n",
       "    <tr>\n",
       "      <th>2020-07-06</th>\n",
       "      <td>1444</td>\n",
       "      <td>29</td>\n",
       "      <td>44</td>\n",
       "      <td>81</td>\n",
       "      <td>81</td>\n",
       "      <td>83</td>\n",
       "      <td>86</td>\n",
       "      <td>87</td>\n",
       "      <td>68</td>\n",
       "      <td>63</td>\n",
       "      <td>60</td>\n",
       "      <td>83</td>\n",
       "      <td>69</td>\n",
       "      <td>73</td>\n",
       "      <td>72</td>\n",
       "      <td>54</td>\n",
       "    </tr>\n",
       "    <tr>\n",
       "      <th>2020-07-07</th>\n",
       "      <td>1446</td>\n",
       "      <td>22</td>\n",
       "      <td>56</td>\n",
       "      <td>66</td>\n",
       "      <td>71</td>\n",
       "      <td>92</td>\n",
       "      <td>99</td>\n",
       "      <td>95</td>\n",
       "      <td>68</td>\n",
       "      <td>78</td>\n",
       "      <td>81</td>\n",
       "      <td>72</td>\n",
       "      <td>75</td>\n",
       "      <td>90</td>\n",
       "      <td>62</td>\n",
       "      <td>60</td>\n",
       "    </tr>\n",
       "    <tr>\n",
       "      <th>2020-07-08</th>\n",
       "      <td>1449</td>\n",
       "      <td>35</td>\n",
       "      <td>63</td>\n",
       "      <td>58</td>\n",
       "      <td>86</td>\n",
       "      <td>72</td>\n",
       "      <td>106</td>\n",
       "      <td>68</td>\n",
       "      <td>68</td>\n",
       "      <td>71</td>\n",
       "      <td>87</td>\n",
       "      <td>59</td>\n",
       "      <td>53</td>\n",
       "      <td>84</td>\n",
       "      <td>56</td>\n",
       "      <td>77</td>\n",
       "    </tr>\n",
       "    <tr>\n",
       "      <th>2020-07-09</th>\n",
       "      <td>1450</td>\n",
       "      <td>28</td>\n",
       "      <td>64</td>\n",
       "      <td>87</td>\n",
       "      <td>63</td>\n",
       "      <td>92</td>\n",
       "      <td>108</td>\n",
       "      <td>104</td>\n",
       "      <td>66</td>\n",
       "      <td>79</td>\n",
       "      <td>67</td>\n",
       "      <td>80</td>\n",
       "      <td>82</td>\n",
       "      <td>82</td>\n",
       "      <td>72</td>\n",
       "      <td>66</td>\n",
       "    </tr>\n",
       "    <tr>\n",
       "      <th>2020-07-10</th>\n",
       "      <td>1454</td>\n",
       "      <td>27</td>\n",
       "      <td>46</td>\n",
       "      <td>66</td>\n",
       "      <td>80</td>\n",
       "      <td>86</td>\n",
       "      <td>110</td>\n",
       "      <td>91</td>\n",
       "      <td>69</td>\n",
       "      <td>71</td>\n",
       "      <td>77</td>\n",
       "      <td>63</td>\n",
       "      <td>82</td>\n",
       "      <td>74</td>\n",
       "      <td>78</td>\n",
       "      <td>71</td>\n",
       "    </tr>\n",
       "    <tr>\n",
       "      <th>2020-07-11</th>\n",
       "      <td>1455</td>\n",
       "      <td>26</td>\n",
       "      <td>61</td>\n",
       "      <td>78</td>\n",
       "      <td>87</td>\n",
       "      <td>98</td>\n",
       "      <td>97</td>\n",
       "      <td>77</td>\n",
       "      <td>73</td>\n",
       "      <td>64</td>\n",
       "      <td>80</td>\n",
       "      <td>68</td>\n",
       "      <td>79</td>\n",
       "      <td>83</td>\n",
       "      <td>77</td>\n",
       "      <td>76</td>\n",
       "    </tr>\n",
       "    <tr>\n",
       "      <th>2020-07-12</th>\n",
       "      <td>1458</td>\n",
       "      <td>25</td>\n",
       "      <td>63</td>\n",
       "      <td>78</td>\n",
       "      <td>81</td>\n",
       "      <td>93</td>\n",
       "      <td>112</td>\n",
       "      <td>94</td>\n",
       "      <td>92</td>\n",
       "      <td>84</td>\n",
       "      <td>81</td>\n",
       "      <td>89</td>\n",
       "      <td>84</td>\n",
       "      <td>79</td>\n",
       "      <td>80</td>\n",
       "      <td>66</td>\n",
       "    </tr>\n",
       "    <tr>\n",
       "      <th>2020-07-13</th>\n",
       "      <td>1461</td>\n",
       "      <td>22</td>\n",
       "      <td>63</td>\n",
       "      <td>62</td>\n",
       "      <td>85</td>\n",
       "      <td>97</td>\n",
       "      <td>100</td>\n",
       "      <td>73</td>\n",
       "      <td>71</td>\n",
       "      <td>69</td>\n",
       "      <td>82</td>\n",
       "      <td>64</td>\n",
       "      <td>78</td>\n",
       "      <td>75</td>\n",
       "      <td>52</td>\n",
       "      <td>69</td>\n",
       "    </tr>\n",
       "    <tr>\n",
       "      <th>2020-07-14</th>\n",
       "      <td>1463</td>\n",
       "      <td>37</td>\n",
       "      <td>53</td>\n",
       "      <td>70</td>\n",
       "      <td>75</td>\n",
       "      <td>81</td>\n",
       "      <td>103</td>\n",
       "      <td>83</td>\n",
       "      <td>61</td>\n",
       "      <td>79</td>\n",
       "      <td>62</td>\n",
       "      <td>78</td>\n",
       "      <td>80</td>\n",
       "      <td>71</td>\n",
       "      <td>70</td>\n",
       "      <td>64</td>\n",
       "    </tr>\n",
       "    <tr>\n",
       "      <th>2020-07-15</th>\n",
       "      <td>1465</td>\n",
       "      <td>41</td>\n",
       "      <td>65</td>\n",
       "      <td>63</td>\n",
       "      <td>76</td>\n",
       "      <td>95</td>\n",
       "      <td>112</td>\n",
       "      <td>80</td>\n",
       "      <td>68</td>\n",
       "      <td>75</td>\n",
       "      <td>83</td>\n",
       "      <td>74</td>\n",
       "      <td>68</td>\n",
       "      <td>70</td>\n",
       "      <td>64</td>\n",
       "      <td>77</td>\n",
       "    </tr>\n",
       "  </tbody>\n",
       "</table>\n",
       "</div>"
      ],
      "text/plain": [
       "days_dif      0   1   2   3   4   5    6    7   8   9   10  11  12  13  14  15\n",
       "reg_ts                                                                        \n",
       "2020-07-01  1432  27  66  63  80  89   97   98  70  77  69  67  69  76  66  72\n",
       "2020-07-02  1434  36  57  82  64  97   97   77  89  63  77  71  78  72  63  71\n",
       "2020-07-03  1437  30  59  69  73  80   92   96  74  80  78  73  75  84  70  73\n",
       "2020-07-04  1439  32  72  62  89  92   91   96  72  75  73  69  80  75  67  62\n",
       "2020-07-05  1441  32  61  59  74  94  106   80  70  78  80  90  59  72  67  67\n",
       "2020-07-06  1444  29  44  81  81  83   86   87  68  63  60  83  69  73  72  54\n",
       "2020-07-07  1446  22  56  66  71  92   99   95  68  78  81  72  75  90  62  60\n",
       "2020-07-08  1449  35  63  58  86  72  106   68  68  71  87  59  53  84  56  77\n",
       "2020-07-09  1450  28  64  87  63  92  108  104  66  79  67  80  82  82  72  66\n",
       "2020-07-10  1454  27  46  66  80  86  110   91  69  71  77  63  82  74  78  71\n",
       "2020-07-11  1455  26  61  78  87  98   97   77  73  64  80  68  79  83  77  76\n",
       "2020-07-12  1458  25  63  78  81  93  112   94  92  84  81  89  84  79  80  66\n",
       "2020-07-13  1461  22  63  62  85  97  100   73  71  69  82  64  78  75  52  69\n",
       "2020-07-14  1463  37  53  70  75  81  103   83  61  79  62  78  80  71  70  64\n",
       "2020-07-15  1465  41  65  63  76  95  112   80  68  75  83  74  68  70  64  77"
      ]
     },
     "execution_count": 33,
     "metadata": {},
     "output_type": "execute_result"
    }
   ],
   "source": [
    "# Получили косынку с абсолютными значениями - кол-во пользователей, заходивших в приложение по дням\n",
    "\n",
    "cohort_pivot"
   ]
  },
  {
   "cell_type": "code",
   "execution_count": 34,
   "id": "f1bb781a",
   "metadata": {},
   "outputs": [],
   "source": [
    "# Для расчета ретеншена необходимо разделить на общее кол-во зарегистрированнх за день пользователей \n",
    "\n",
    "cohort_size = cohort_pivot[0]\n",
    "retention_df = cohort_pivot.divide(cohort_size, axis=0).mul(100).round(2)"
   ]
  },
  {
   "cell_type": "code",
   "execution_count": 35,
   "id": "05ae9ae5",
   "metadata": {
    "scrolled": false
   },
   "outputs": [
    {
     "data": {
      "text/html": [
       "<div>\n",
       "<style scoped>\n",
       "    .dataframe tbody tr th:only-of-type {\n",
       "        vertical-align: middle;\n",
       "    }\n",
       "\n",
       "    .dataframe tbody tr th {\n",
       "        vertical-align: top;\n",
       "    }\n",
       "\n",
       "    .dataframe thead th {\n",
       "        text-align: right;\n",
       "    }\n",
       "</style>\n",
       "<table border=\"1\" class=\"dataframe\">\n",
       "  <thead>\n",
       "    <tr style=\"text-align: right;\">\n",
       "      <th>days_dif</th>\n",
       "      <th>0</th>\n",
       "      <th>1</th>\n",
       "      <th>2</th>\n",
       "      <th>3</th>\n",
       "      <th>4</th>\n",
       "      <th>5</th>\n",
       "      <th>6</th>\n",
       "      <th>7</th>\n",
       "      <th>8</th>\n",
       "      <th>9</th>\n",
       "      <th>10</th>\n",
       "      <th>11</th>\n",
       "      <th>12</th>\n",
       "      <th>13</th>\n",
       "      <th>14</th>\n",
       "      <th>15</th>\n",
       "    </tr>\n",
       "    <tr>\n",
       "      <th>reg_ts</th>\n",
       "      <th></th>\n",
       "      <th></th>\n",
       "      <th></th>\n",
       "      <th></th>\n",
       "      <th></th>\n",
       "      <th></th>\n",
       "      <th></th>\n",
       "      <th></th>\n",
       "      <th></th>\n",
       "      <th></th>\n",
       "      <th></th>\n",
       "      <th></th>\n",
       "      <th></th>\n",
       "      <th></th>\n",
       "      <th></th>\n",
       "      <th></th>\n",
       "    </tr>\n",
       "  </thead>\n",
       "  <tbody>\n",
       "    <tr>\n",
       "      <th>2020-07-01</th>\n",
       "      <td>100.0</td>\n",
       "      <td>1.89</td>\n",
       "      <td>4.61</td>\n",
       "      <td>4.40</td>\n",
       "      <td>5.59</td>\n",
       "      <td>6.22</td>\n",
       "      <td>6.77</td>\n",
       "      <td>6.84</td>\n",
       "      <td>4.89</td>\n",
       "      <td>5.38</td>\n",
       "      <td>4.82</td>\n",
       "      <td>4.68</td>\n",
       "      <td>4.82</td>\n",
       "      <td>5.31</td>\n",
       "      <td>4.61</td>\n",
       "      <td>5.03</td>\n",
       "    </tr>\n",
       "    <tr>\n",
       "      <th>2020-07-02</th>\n",
       "      <td>100.0</td>\n",
       "      <td>2.51</td>\n",
       "      <td>3.97</td>\n",
       "      <td>5.72</td>\n",
       "      <td>4.46</td>\n",
       "      <td>6.76</td>\n",
       "      <td>6.76</td>\n",
       "      <td>5.37</td>\n",
       "      <td>6.21</td>\n",
       "      <td>4.39</td>\n",
       "      <td>5.37</td>\n",
       "      <td>4.95</td>\n",
       "      <td>5.44</td>\n",
       "      <td>5.02</td>\n",
       "      <td>4.39</td>\n",
       "      <td>4.95</td>\n",
       "    </tr>\n",
       "    <tr>\n",
       "      <th>2020-07-03</th>\n",
       "      <td>100.0</td>\n",
       "      <td>2.09</td>\n",
       "      <td>4.11</td>\n",
       "      <td>4.80</td>\n",
       "      <td>5.08</td>\n",
       "      <td>5.57</td>\n",
       "      <td>6.40</td>\n",
       "      <td>6.68</td>\n",
       "      <td>5.15</td>\n",
       "      <td>5.57</td>\n",
       "      <td>5.43</td>\n",
       "      <td>5.08</td>\n",
       "      <td>5.22</td>\n",
       "      <td>5.85</td>\n",
       "      <td>4.87</td>\n",
       "      <td>5.08</td>\n",
       "    </tr>\n",
       "    <tr>\n",
       "      <th>2020-07-04</th>\n",
       "      <td>100.0</td>\n",
       "      <td>2.22</td>\n",
       "      <td>5.00</td>\n",
       "      <td>4.31</td>\n",
       "      <td>6.18</td>\n",
       "      <td>6.39</td>\n",
       "      <td>6.32</td>\n",
       "      <td>6.67</td>\n",
       "      <td>5.00</td>\n",
       "      <td>5.21</td>\n",
       "      <td>5.07</td>\n",
       "      <td>4.79</td>\n",
       "      <td>5.56</td>\n",
       "      <td>5.21</td>\n",
       "      <td>4.66</td>\n",
       "      <td>4.31</td>\n",
       "    </tr>\n",
       "    <tr>\n",
       "      <th>2020-07-05</th>\n",
       "      <td>100.0</td>\n",
       "      <td>2.22</td>\n",
       "      <td>4.23</td>\n",
       "      <td>4.09</td>\n",
       "      <td>5.14</td>\n",
       "      <td>6.52</td>\n",
       "      <td>7.36</td>\n",
       "      <td>5.55</td>\n",
       "      <td>4.86</td>\n",
       "      <td>5.41</td>\n",
       "      <td>5.55</td>\n",
       "      <td>6.25</td>\n",
       "      <td>4.09</td>\n",
       "      <td>5.00</td>\n",
       "      <td>4.65</td>\n",
       "      <td>4.65</td>\n",
       "    </tr>\n",
       "    <tr>\n",
       "      <th>2020-07-06</th>\n",
       "      <td>100.0</td>\n",
       "      <td>2.01</td>\n",
       "      <td>3.05</td>\n",
       "      <td>5.61</td>\n",
       "      <td>5.61</td>\n",
       "      <td>5.75</td>\n",
       "      <td>5.96</td>\n",
       "      <td>6.02</td>\n",
       "      <td>4.71</td>\n",
       "      <td>4.36</td>\n",
       "      <td>4.16</td>\n",
       "      <td>5.75</td>\n",
       "      <td>4.78</td>\n",
       "      <td>5.06</td>\n",
       "      <td>4.99</td>\n",
       "      <td>3.74</td>\n",
       "    </tr>\n",
       "    <tr>\n",
       "      <th>2020-07-07</th>\n",
       "      <td>100.0</td>\n",
       "      <td>1.52</td>\n",
       "      <td>3.87</td>\n",
       "      <td>4.56</td>\n",
       "      <td>4.91</td>\n",
       "      <td>6.36</td>\n",
       "      <td>6.85</td>\n",
       "      <td>6.57</td>\n",
       "      <td>4.70</td>\n",
       "      <td>5.39</td>\n",
       "      <td>5.60</td>\n",
       "      <td>4.98</td>\n",
       "      <td>5.19</td>\n",
       "      <td>6.22</td>\n",
       "      <td>4.29</td>\n",
       "      <td>4.15</td>\n",
       "    </tr>\n",
       "    <tr>\n",
       "      <th>2020-07-08</th>\n",
       "      <td>100.0</td>\n",
       "      <td>2.42</td>\n",
       "      <td>4.35</td>\n",
       "      <td>4.00</td>\n",
       "      <td>5.94</td>\n",
       "      <td>4.97</td>\n",
       "      <td>7.32</td>\n",
       "      <td>4.69</td>\n",
       "      <td>4.69</td>\n",
       "      <td>4.90</td>\n",
       "      <td>6.00</td>\n",
       "      <td>4.07</td>\n",
       "      <td>3.66</td>\n",
       "      <td>5.80</td>\n",
       "      <td>3.86</td>\n",
       "      <td>5.31</td>\n",
       "    </tr>\n",
       "    <tr>\n",
       "      <th>2020-07-09</th>\n",
       "      <td>100.0</td>\n",
       "      <td>1.93</td>\n",
       "      <td>4.41</td>\n",
       "      <td>6.00</td>\n",
       "      <td>4.34</td>\n",
       "      <td>6.34</td>\n",
       "      <td>7.45</td>\n",
       "      <td>7.17</td>\n",
       "      <td>4.55</td>\n",
       "      <td>5.45</td>\n",
       "      <td>4.62</td>\n",
       "      <td>5.52</td>\n",
       "      <td>5.66</td>\n",
       "      <td>5.66</td>\n",
       "      <td>4.97</td>\n",
       "      <td>4.55</td>\n",
       "    </tr>\n",
       "    <tr>\n",
       "      <th>2020-07-10</th>\n",
       "      <td>100.0</td>\n",
       "      <td>1.86</td>\n",
       "      <td>3.16</td>\n",
       "      <td>4.54</td>\n",
       "      <td>5.50</td>\n",
       "      <td>5.91</td>\n",
       "      <td>7.57</td>\n",
       "      <td>6.26</td>\n",
       "      <td>4.75</td>\n",
       "      <td>4.88</td>\n",
       "      <td>5.30</td>\n",
       "      <td>4.33</td>\n",
       "      <td>5.64</td>\n",
       "      <td>5.09</td>\n",
       "      <td>5.36</td>\n",
       "      <td>4.88</td>\n",
       "    </tr>\n",
       "    <tr>\n",
       "      <th>2020-07-11</th>\n",
       "      <td>100.0</td>\n",
       "      <td>1.79</td>\n",
       "      <td>4.19</td>\n",
       "      <td>5.36</td>\n",
       "      <td>5.98</td>\n",
       "      <td>6.74</td>\n",
       "      <td>6.67</td>\n",
       "      <td>5.29</td>\n",
       "      <td>5.02</td>\n",
       "      <td>4.40</td>\n",
       "      <td>5.50</td>\n",
       "      <td>4.67</td>\n",
       "      <td>5.43</td>\n",
       "      <td>5.70</td>\n",
       "      <td>5.29</td>\n",
       "      <td>5.22</td>\n",
       "    </tr>\n",
       "    <tr>\n",
       "      <th>2020-07-12</th>\n",
       "      <td>100.0</td>\n",
       "      <td>1.71</td>\n",
       "      <td>4.32</td>\n",
       "      <td>5.35</td>\n",
       "      <td>5.56</td>\n",
       "      <td>6.38</td>\n",
       "      <td>7.68</td>\n",
       "      <td>6.45</td>\n",
       "      <td>6.31</td>\n",
       "      <td>5.76</td>\n",
       "      <td>5.56</td>\n",
       "      <td>6.10</td>\n",
       "      <td>5.76</td>\n",
       "      <td>5.42</td>\n",
       "      <td>5.49</td>\n",
       "      <td>4.53</td>\n",
       "    </tr>\n",
       "    <tr>\n",
       "      <th>2020-07-13</th>\n",
       "      <td>100.0</td>\n",
       "      <td>1.51</td>\n",
       "      <td>4.31</td>\n",
       "      <td>4.24</td>\n",
       "      <td>5.82</td>\n",
       "      <td>6.64</td>\n",
       "      <td>6.84</td>\n",
       "      <td>5.00</td>\n",
       "      <td>4.86</td>\n",
       "      <td>4.72</td>\n",
       "      <td>5.61</td>\n",
       "      <td>4.38</td>\n",
       "      <td>5.34</td>\n",
       "      <td>5.13</td>\n",
       "      <td>3.56</td>\n",
       "      <td>4.72</td>\n",
       "    </tr>\n",
       "    <tr>\n",
       "      <th>2020-07-14</th>\n",
       "      <td>100.0</td>\n",
       "      <td>2.53</td>\n",
       "      <td>3.62</td>\n",
       "      <td>4.78</td>\n",
       "      <td>5.13</td>\n",
       "      <td>5.54</td>\n",
       "      <td>7.04</td>\n",
       "      <td>5.67</td>\n",
       "      <td>4.17</td>\n",
       "      <td>5.40</td>\n",
       "      <td>4.24</td>\n",
       "      <td>5.33</td>\n",
       "      <td>5.47</td>\n",
       "      <td>4.85</td>\n",
       "      <td>4.78</td>\n",
       "      <td>4.37</td>\n",
       "    </tr>\n",
       "    <tr>\n",
       "      <th>2020-07-15</th>\n",
       "      <td>100.0</td>\n",
       "      <td>2.80</td>\n",
       "      <td>4.44</td>\n",
       "      <td>4.30</td>\n",
       "      <td>5.19</td>\n",
       "      <td>6.48</td>\n",
       "      <td>7.65</td>\n",
       "      <td>5.46</td>\n",
       "      <td>4.64</td>\n",
       "      <td>5.12</td>\n",
       "      <td>5.67</td>\n",
       "      <td>5.05</td>\n",
       "      <td>4.64</td>\n",
       "      <td>4.78</td>\n",
       "      <td>4.37</td>\n",
       "      <td>5.26</td>\n",
       "    </tr>\n",
       "  </tbody>\n",
       "</table>\n",
       "</div>"
      ],
      "text/plain": [
       "days_dif       0     1     2     3     4     5     6     7     8     9     10  \\\n",
       "reg_ts                                                                          \n",
       "2020-07-01  100.0  1.89  4.61  4.40  5.59  6.22  6.77  6.84  4.89  5.38  4.82   \n",
       "2020-07-02  100.0  2.51  3.97  5.72  4.46  6.76  6.76  5.37  6.21  4.39  5.37   \n",
       "2020-07-03  100.0  2.09  4.11  4.80  5.08  5.57  6.40  6.68  5.15  5.57  5.43   \n",
       "2020-07-04  100.0  2.22  5.00  4.31  6.18  6.39  6.32  6.67  5.00  5.21  5.07   \n",
       "2020-07-05  100.0  2.22  4.23  4.09  5.14  6.52  7.36  5.55  4.86  5.41  5.55   \n",
       "2020-07-06  100.0  2.01  3.05  5.61  5.61  5.75  5.96  6.02  4.71  4.36  4.16   \n",
       "2020-07-07  100.0  1.52  3.87  4.56  4.91  6.36  6.85  6.57  4.70  5.39  5.60   \n",
       "2020-07-08  100.0  2.42  4.35  4.00  5.94  4.97  7.32  4.69  4.69  4.90  6.00   \n",
       "2020-07-09  100.0  1.93  4.41  6.00  4.34  6.34  7.45  7.17  4.55  5.45  4.62   \n",
       "2020-07-10  100.0  1.86  3.16  4.54  5.50  5.91  7.57  6.26  4.75  4.88  5.30   \n",
       "2020-07-11  100.0  1.79  4.19  5.36  5.98  6.74  6.67  5.29  5.02  4.40  5.50   \n",
       "2020-07-12  100.0  1.71  4.32  5.35  5.56  6.38  7.68  6.45  6.31  5.76  5.56   \n",
       "2020-07-13  100.0  1.51  4.31  4.24  5.82  6.64  6.84  5.00  4.86  4.72  5.61   \n",
       "2020-07-14  100.0  2.53  3.62  4.78  5.13  5.54  7.04  5.67  4.17  5.40  4.24   \n",
       "2020-07-15  100.0  2.80  4.44  4.30  5.19  6.48  7.65  5.46  4.64  5.12  5.67   \n",
       "\n",
       "days_dif      11    12    13    14    15  \n",
       "reg_ts                                    \n",
       "2020-07-01  4.68  4.82  5.31  4.61  5.03  \n",
       "2020-07-02  4.95  5.44  5.02  4.39  4.95  \n",
       "2020-07-03  5.08  5.22  5.85  4.87  5.08  \n",
       "2020-07-04  4.79  5.56  5.21  4.66  4.31  \n",
       "2020-07-05  6.25  4.09  5.00  4.65  4.65  \n",
       "2020-07-06  5.75  4.78  5.06  4.99  3.74  \n",
       "2020-07-07  4.98  5.19  6.22  4.29  4.15  \n",
       "2020-07-08  4.07  3.66  5.80  3.86  5.31  \n",
       "2020-07-09  5.52  5.66  5.66  4.97  4.55  \n",
       "2020-07-10  4.33  5.64  5.09  5.36  4.88  \n",
       "2020-07-11  4.67  5.43  5.70  5.29  5.22  \n",
       "2020-07-12  6.10  5.76  5.42  5.49  4.53  \n",
       "2020-07-13  4.38  5.34  5.13  3.56  4.72  \n",
       "2020-07-14  5.33  5.47  4.85  4.78  4.37  \n",
       "2020-07-15  5.05  4.64  4.78  4.37  5.26  "
      ]
     },
     "execution_count": 35,
     "metadata": {},
     "output_type": "execute_result"
    }
   ],
   "source": [
    "retention_df"
   ]
  },
  {
   "cell_type": "code",
   "execution_count": null,
   "id": "ca7660bb",
   "metadata": {},
   "outputs": [],
   "source": []
  },
  {
   "cell_type": "markdown",
   "id": "6d6eda9b",
   "metadata": {},
   "source": [
    "Соберем скрипт в функцию calculate_RR и упакуем в одноименный модуль. \n",
    "\n",
    "Проверим работоспособность и визуализируем результат"
   ]
  },
  {
   "cell_type": "code",
   "execution_count": null,
   "id": "e5a33857",
   "metadata": {},
   "outputs": [],
   "source": []
  },
  {
   "cell_type": "code",
   "execution_count": 2,
   "id": "6629dace",
   "metadata": {},
   "outputs": [],
   "source": [
    "from calculate_RR import calculate_RR"
   ]
  },
  {
   "cell_type": "code",
   "execution_count": 3,
   "id": "27f74567",
   "metadata": {},
   "outputs": [
    {
     "name": "stdout",
     "output_type": "stream",
     "text": [
      "Введите дату начала периода в формате YYYY-MM-DD: 2020-07-01\n",
      "Введите дату окончания периода в формате YYYY-MM-DD: 2020-07-15\n",
      "Введите верхнюю границу количества дней retention: 15\n"
     ]
    }
   ],
   "source": [
    "a = 'C:/Users/makog/KC lessons/jupyter-s-makogon _from_KC/shared/problem1-reg_data.csv'\n",
    "b = 'C:/Users/makog/KC lessons/jupyter-s-makogon _from_KC/shared/problem1-auth_data.csv'\n",
    "\n",
    "df = calculate_RR(a, b)"
   ]
  },
  {
   "cell_type": "code",
   "execution_count": 4,
   "id": "49b84434",
   "metadata": {},
   "outputs": [
    {
     "data": {
      "text/plain": [
       "<AxesSubplot:xlabel='days_dif', ylabel='reg_ts'>"
      ]
     },
     "execution_count": 4,
     "metadata": {},
     "output_type": "execute_result"
    },
    {
     "data": {
      "image/png": "[encoded data removed]",
      "text/plain": [
       "<Figure size 1080x720 with 2 Axes>"
      ]
     },
     "metadata": {
      "needs_background": "light"
     },
     "output_type": "display_data"
    }
   ],
   "source": [
    "# По классике построим хитмэм для наглядности\n",
    "\n",
    "fig, ax = plt.subplots(figsize=(15,10)) \n",
    "sns.heatmap(df, vmin=0, vmax=10, cmap=\"Greens\", annot=True, ax=ax)"
   ]
  },
  {
   "cell_type": "code",
   "execution_count": null,
   "id": "3797fc63",
   "metadata": {},
   "outputs": [],
   "source": []
  },
  {
   "cell_type": "markdown",
   "id": "4ba8b5b8",
   "metadata": {},
   "source": [
    "Предложу еще одну визуализацию для сравнения средних ретеншен по дням за разные периоды"
   ]
  },
  {
   "cell_type": "code",
   "execution_count": 40,
   "id": "993ecf19",
   "metadata": {},
   "outputs": [
    {
     "name": "stdout",
     "output_type": "stream",
     "text": [
      "Введите дату начала периода в формате YYYY-MM-DD: 2020-07-16\n",
      "Введите дату окончания периода в формате YYYY-MM-DD: 2020-07-30\n",
      "Введите верхнюю границу количества дней retention: 15\n"
     ]
    }
   ],
   "source": [
    "# Получаем второй ретеншен-дф с другим периодом для сравнения с первым\n",
    "\n",
    "a = 'C:/Users/makog/KC lessons/jupyter-s-makogon _from_KC/shared/problem1-reg_data.csv'\n",
    "b = 'C:/Users/makog/KC lessons/jupyter-s-makogon _from_KC/shared/problem1-auth_data.csv'\n",
    "\n",
    "df_2 = calculate_RR(a, b)"
   ]
  },
  {
   "cell_type": "code",
   "execution_count": 41,
   "id": "813fc4eb",
   "metadata": {},
   "outputs": [],
   "source": [
    "# Функция формирования дф со средним ретеншен по каждому дню\n",
    "\n",
    "def retention_mean(df): \n",
    "    r_mean = {}\n",
    "\n",
    "    for i in range(1, df.shape[1]):\n",
    "        r_mean[i] = round(df[i].mean(), 2)\n",
    "\n",
    "    return pd.DataFrame(r_mean.items(), columns=['day', 'retention_mean'])"
   ]
  },
  {
   "cell_type": "code",
   "execution_count": 42,
   "id": "d0b9fc9a",
   "metadata": {},
   "outputs": [],
   "source": [
    "df_mean = retention_mean(df)\n",
    "df_mean_2 = retention_mean(df_2)"
   ]
  },
  {
   "cell_type": "code",
   "execution_count": 43,
   "id": "7daa9af0",
   "metadata": {},
   "outputs": [
    {
     "data": {
      "image/png": "[encoded data removed]",
      "text/plain": [
       "<Figure size 432x288 with 1 Axes>"
      ]
     },
     "metadata": {
      "needs_background": "light"
     },
     "output_type": "display_data"
    }
   ],
   "source": [
    "first_period = sns.lineplot(x= 'day', y='retention_mean', data= df_mean, palette = 'blue', label = 'first_period') \n",
    "second_period = sns.lineplot(x= 'day', y='retention_mean', data= df_mean_2, palette = 'orange', label = 'second_period')\n",
    "plt.title(\"Retention Rate compare diff periods\")\n",
    "plt.legend()\n",
    "plt.show()"
   ]
  },
  {
   "cell_type": "code",
   "execution_count": null,
   "id": "9732a34f",
   "metadata": {},
   "outputs": [],
   "source": []
  },
  {
   "cell_type": "code",
   "execution_count": null,
   "id": "401147a5",
   "metadata": {},
   "outputs": [],
   "source": []
  },
  {
   "cell_type": "code",
   "execution_count": null,
   "id": "ce007baf",
   "metadata": {},
   "outputs": [],
   "source": []
  }
 ],
 "metadata": {
  "kernelspec": {
   "display_name": "Python 3 (ipykernel)",
   "language": "python",
   "name": "python3"
  },
  "language_info": {
   "codemirror_mode": {
    "name": "ipython",
    "version": 3
   },
   "file_extension": ".py",
   "mimetype": "text/x-python",
   "name": "python",
   "nbconvert_exporter": "python",
   "pygments_lexer": "ipython3",
   "version": "3.9.12"
  }
 },
 "nbformat": 4,
 "nbformat_minor": 5
}
