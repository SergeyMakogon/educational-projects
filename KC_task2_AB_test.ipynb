{
 "cells": [
  {
   "cell_type": "markdown",
   "id": "6ca01fc5",
   "metadata": {},
   "source": [
    "Задание 2\n",
    "\n",
    "Имеются результаты A/B теста, в котором двум группам пользователей предлагались различные наборы акционных предложений. Известно, что ARPU в тестовой группе выше на 5%, чем в контрольной. При этом в контрольной группе 1928 игроков из 202103 оказались платящими, а в тестовой – 1805 из 202667.\n",
    "\n",
    "Какой набор предложений можно считать лучшим? Какие метрики стоит проанализировать для принятия правильного решения и как?"
   ]
  },
  {
   "cell_type": "code",
   "execution_count": 1,
   "id": "3dd707b6",
   "metadata": {},
   "outputs": [],
   "source": [
    "import pandas as pd\n",
    "import numpy as np\n",
    "\n",
    "import scipy.stats as ss\n",
    "import statsmodels.api as sm\n",
    "from scipy.stats import chi2_contingency, chi2 \n",
    "\n",
    "import matplotlib.pyplot as plt\n",
    "import seaborn as sns\n",
    "\n",
    "from scipy.stats import norm\n",
    "from tqdm.auto import tqdm\n",
    "\n",
    "plt.style.use('ggplot')"
   ]
  },
  {
   "cell_type": "code",
   "execution_count": 2,
   "id": "07d09bd8",
   "metadata": {},
   "outputs": [],
   "source": [
    "# Считываем и изучаем данные"
   ]
  },
  {
   "cell_type": "code",
   "execution_count": 3,
   "id": "5917fbf3",
   "metadata": {},
   "outputs": [],
   "source": [
    "df = pd.read_csv('C:/Users/makog/KC lessons/jupyter-s-makogon _from_KC/my_lessons/Проект_1_Задание_2.csv', sep=';')"
   ]
  },
  {
   "cell_type": "code",
   "execution_count": 4,
   "id": "e6d1d2bd",
   "metadata": {},
   "outputs": [
    {
     "data": {
      "text/html": [
       "<div>\n",
       "<style scoped>\n",
       "    .dataframe tbody tr th:only-of-type {\n",
       "        vertical-align: middle;\n",
       "    }\n",
       "\n",
       "    .dataframe tbody tr th {\n",
       "        vertical-align: top;\n",
       "    }\n",
       "\n",
       "    .dataframe thead th {\n",
       "        text-align: right;\n",
       "    }\n",
       "</style>\n",
       "<table border=\"1\" class=\"dataframe\">\n",
       "  <thead>\n",
       "    <tr style=\"text-align: right;\">\n",
       "      <th></th>\n",
       "      <th>user_id</th>\n",
       "      <th>revenue</th>\n",
       "      <th>testgroup</th>\n",
       "    </tr>\n",
       "  </thead>\n",
       "  <tbody>\n",
       "    <tr>\n",
       "      <th>0</th>\n",
       "      <td>1</td>\n",
       "      <td>0</td>\n",
       "      <td>b</td>\n",
       "    </tr>\n",
       "    <tr>\n",
       "      <th>1</th>\n",
       "      <td>2</td>\n",
       "      <td>0</td>\n",
       "      <td>a</td>\n",
       "    </tr>\n",
       "    <tr>\n",
       "      <th>2</th>\n",
       "      <td>3</td>\n",
       "      <td>0</td>\n",
       "      <td>a</td>\n",
       "    </tr>\n",
       "    <tr>\n",
       "      <th>3</th>\n",
       "      <td>4</td>\n",
       "      <td>0</td>\n",
       "      <td>b</td>\n",
       "    </tr>\n",
       "    <tr>\n",
       "      <th>4</th>\n",
       "      <td>5</td>\n",
       "      <td>0</td>\n",
       "      <td>b</td>\n",
       "    </tr>\n",
       "    <tr>\n",
       "      <th>...</th>\n",
       "      <td>...</td>\n",
       "      <td>...</td>\n",
       "      <td>...</td>\n",
       "    </tr>\n",
       "    <tr>\n",
       "      <th>404765</th>\n",
       "      <td>404766</td>\n",
       "      <td>0</td>\n",
       "      <td>a</td>\n",
       "    </tr>\n",
       "    <tr>\n",
       "      <th>404766</th>\n",
       "      <td>404767</td>\n",
       "      <td>0</td>\n",
       "      <td>b</td>\n",
       "    </tr>\n",
       "    <tr>\n",
       "      <th>404767</th>\n",
       "      <td>404768</td>\n",
       "      <td>231</td>\n",
       "      <td>a</td>\n",
       "    </tr>\n",
       "    <tr>\n",
       "      <th>404768</th>\n",
       "      <td>404769</td>\n",
       "      <td>0</td>\n",
       "      <td>a</td>\n",
       "    </tr>\n",
       "    <tr>\n",
       "      <th>404769</th>\n",
       "      <td>404770</td>\n",
       "      <td>0</td>\n",
       "      <td>b</td>\n",
       "    </tr>\n",
       "  </tbody>\n",
       "</table>\n",
       "<p>404770 rows × 3 columns</p>\n",
       "</div>"
      ],
      "text/plain": [
       "        user_id  revenue testgroup\n",
       "0             1        0         b\n",
       "1             2        0         a\n",
       "2             3        0         a\n",
       "3             4        0         b\n",
       "4             5        0         b\n",
       "...         ...      ...       ...\n",
       "404765   404766        0         a\n",
       "404766   404767        0         b\n",
       "404767   404768      231         a\n",
       "404768   404769        0         a\n",
       "404769   404770        0         b\n",
       "\n",
       "[404770 rows x 3 columns]"
      ]
     },
     "execution_count": 4,
     "metadata": {},
     "output_type": "execute_result"
    }
   ],
   "source": [
    "df"
   ]
  },
  {
   "cell_type": "code",
   "execution_count": 5,
   "id": "5041556c",
   "metadata": {},
   "outputs": [
    {
     "data": {
      "text/plain": [
       "user_id      0\n",
       "revenue      0\n",
       "testgroup    0\n",
       "dtype: int64"
      ]
     },
     "execution_count": 5,
     "metadata": {},
     "output_type": "execute_result"
    }
   ],
   "source": [
    "df.isna().sum()"
   ]
  },
  {
   "cell_type": "code",
   "execution_count": 6,
   "id": "8d4cfe86",
   "metadata": {},
   "outputs": [
    {
     "data": {
      "text/plain": [
       "0"
      ]
     },
     "execution_count": 6,
     "metadata": {},
     "output_type": "execute_result"
    }
   ],
   "source": [
    "df.duplicated().sum()"
   ]
  },
  {
   "cell_type": "code",
   "execution_count": 7,
   "id": "f910ea99",
   "metadata": {},
   "outputs": [
    {
     "data": {
      "text/html": [
       "<div>\n",
       "<style scoped>\n",
       "    .dataframe tbody tr th:only-of-type {\n",
       "        vertical-align: middle;\n",
       "    }\n",
       "\n",
       "    .dataframe tbody tr th {\n",
       "        vertical-align: top;\n",
       "    }\n",
       "\n",
       "    .dataframe thead th {\n",
       "        text-align: right;\n",
       "    }\n",
       "</style>\n",
       "<table border=\"1\" class=\"dataframe\">\n",
       "  <thead>\n",
       "    <tr style=\"text-align: right;\">\n",
       "      <th></th>\n",
       "      <th>user_id</th>\n",
       "      <th>revenue</th>\n",
       "    </tr>\n",
       "  </thead>\n",
       "  <tbody>\n",
       "    <tr>\n",
       "      <th>count</th>\n",
       "      <td>404770.000000</td>\n",
       "      <td>404770.000000</td>\n",
       "    </tr>\n",
       "    <tr>\n",
       "      <th>mean</th>\n",
       "      <td>202385.500000</td>\n",
       "      <td>26.083435</td>\n",
       "    </tr>\n",
       "    <tr>\n",
       "      <th>std</th>\n",
       "      <td>116847.178567</td>\n",
       "      <td>681.652928</td>\n",
       "    </tr>\n",
       "    <tr>\n",
       "      <th>min</th>\n",
       "      <td>1.000000</td>\n",
       "      <td>0.000000</td>\n",
       "    </tr>\n",
       "    <tr>\n",
       "      <th>25%</th>\n",
       "      <td>101193.250000</td>\n",
       "      <td>0.000000</td>\n",
       "    </tr>\n",
       "    <tr>\n",
       "      <th>50%</th>\n",
       "      <td>202385.500000</td>\n",
       "      <td>0.000000</td>\n",
       "    </tr>\n",
       "    <tr>\n",
       "      <th>75%</th>\n",
       "      <td>303577.750000</td>\n",
       "      <td>0.000000</td>\n",
       "    </tr>\n",
       "    <tr>\n",
       "      <th>max</th>\n",
       "      <td>404770.000000</td>\n",
       "      <td>37433.000000</td>\n",
       "    </tr>\n",
       "  </tbody>\n",
       "</table>\n",
       "</div>"
      ],
      "text/plain": [
       "             user_id        revenue\n",
       "count  404770.000000  404770.000000\n",
       "mean   202385.500000      26.083435\n",
       "std    116847.178567     681.652928\n",
       "min         1.000000       0.000000\n",
       "25%    101193.250000       0.000000\n",
       "50%    202385.500000       0.000000\n",
       "75%    303577.750000       0.000000\n",
       "max    404770.000000   37433.000000"
      ]
     },
     "execution_count": 7,
     "metadata": {},
     "output_type": "execute_result"
    }
   ],
   "source": [
    "df.describe()"
   ]
  },
  {
   "cell_type": "code",
   "execution_count": 8,
   "id": "8e6b24d4",
   "metadata": {},
   "outputs": [],
   "source": [
    "# a - контрольная группа\n",
    "# b - тестовая"
   ]
  },
  {
   "cell_type": "code",
   "execution_count": 9,
   "id": "bb535c93",
   "metadata": {},
   "outputs": [
    {
     "data": {
      "text/plain": [
       "b    202667\n",
       "a    202103\n",
       "Name: testgroup, dtype: int64"
      ]
     },
     "execution_count": 9,
     "metadata": {},
     "output_type": "execute_result"
    }
   ],
   "source": [
    "df['testgroup'].value_counts()"
   ]
  },
  {
   "cell_type": "code",
   "execution_count": 10,
   "id": "db9e26b2",
   "metadata": {},
   "outputs": [],
   "source": [
    "df_control = df.query(\"testgroup == 'a'\")\n",
    "df_test = df.query(\"testgroup == 'b'\")"
   ]
  },
  {
   "cell_type": "code",
   "execution_count": null,
   "id": "37761d5e",
   "metadata": {},
   "outputs": [],
   "source": []
  },
  {
   "cell_type": "code",
   "execution_count": null,
   "id": "78a11467",
   "metadata": {},
   "outputs": [],
   "source": []
  },
  {
   "cell_type": "code",
   "execution_count": 11,
   "id": "7ecb622b",
   "metadata": {},
   "outputs": [
    {
     "data": {
      "text/html": [
       "<div>\n",
       "<style scoped>\n",
       "    .dataframe tbody tr th:only-of-type {\n",
       "        vertical-align: middle;\n",
       "    }\n",
       "\n",
       "    .dataframe tbody tr th {\n",
       "        vertical-align: top;\n",
       "    }\n",
       "\n",
       "    .dataframe thead th {\n",
       "        text-align: right;\n",
       "    }\n",
       "</style>\n",
       "<table border=\"1\" class=\"dataframe\">\n",
       "  <thead>\n",
       "    <tr style=\"text-align: right;\">\n",
       "      <th></th>\n",
       "      <th>revenue</th>\n",
       "      <th>revenue</th>\n",
       "    </tr>\n",
       "  </thead>\n",
       "  <tbody>\n",
       "    <tr>\n",
       "      <th>count</th>\n",
       "      <td>202103.000000</td>\n",
       "      <td>202667.000000</td>\n",
       "    </tr>\n",
       "    <tr>\n",
       "      <th>mean</th>\n",
       "      <td>25.413720</td>\n",
       "      <td>26.751287</td>\n",
       "    </tr>\n",
       "    <tr>\n",
       "      <th>std</th>\n",
       "      <td>920.768137</td>\n",
       "      <td>287.324162</td>\n",
       "    </tr>\n",
       "    <tr>\n",
       "      <th>min</th>\n",
       "      <td>0.000000</td>\n",
       "      <td>0.000000</td>\n",
       "    </tr>\n",
       "    <tr>\n",
       "      <th>25%</th>\n",
       "      <td>0.000000</td>\n",
       "      <td>0.000000</td>\n",
       "    </tr>\n",
       "    <tr>\n",
       "      <th>50%</th>\n",
       "      <td>0.000000</td>\n",
       "      <td>0.000000</td>\n",
       "    </tr>\n",
       "    <tr>\n",
       "      <th>75%</th>\n",
       "      <td>0.000000</td>\n",
       "      <td>0.000000</td>\n",
       "    </tr>\n",
       "    <tr>\n",
       "      <th>max</th>\n",
       "      <td>37433.000000</td>\n",
       "      <td>4000.000000</td>\n",
       "    </tr>\n",
       "  </tbody>\n",
       "</table>\n",
       "</div>"
      ],
      "text/plain": [
       "             revenue        revenue\n",
       "count  202103.000000  202667.000000\n",
       "mean       25.413720      26.751287\n",
       "std       920.768137     287.324162\n",
       "min         0.000000       0.000000\n",
       "25%         0.000000       0.000000\n",
       "50%         0.000000       0.000000\n",
       "75%         0.000000       0.000000\n",
       "max     37433.000000    4000.000000"
      ]
     },
     "execution_count": 11,
     "metadata": {},
     "output_type": "execute_result"
    }
   ],
   "source": [
    "#Смотрим на описательные статистики\n",
    "\n",
    "pd.concat([df_control['revenue'].describe(), df_test['revenue'].describe()], axis=1)"
   ]
  },
  {
   "cell_type": "code",
   "execution_count": 12,
   "id": "eb3d0cf2",
   "metadata": {},
   "outputs": [
    {
     "data": {
      "text/plain": [
       "<AxesSubplot:xlabel='testgroup', ylabel='revenue'>"
      ]
     },
     "execution_count": 12,
     "metadata": {},
     "output_type": "execute_result"
    },
    {
     "data": {
      "image/png": "[encoded data removed]",
      "text/plain": [
       "<Figure size 432x288 with 1 Axes>"
      ]
     },
     "metadata": {},
     "output_type": "display_data"
    }
   ],
   "source": [
    "# Смотрит распределение revenue. Пока не очень понятно, много оттягивают на себя нулевые значения\n",
    "\n",
    "sns.boxplot(x='testgroup', y='revenue', data=df)"
   ]
  },
  {
   "cell_type": "code",
   "execution_count": 13,
   "id": "9be20cd4",
   "metadata": {},
   "outputs": [
    {
     "data": {
      "text/plain": [
       "<AxesSubplot:xlabel='testgroup', ylabel='revenue'>"
      ]
     },
     "execution_count": 13,
     "metadata": {},
     "output_type": "execute_result"
    },
    {
     "data": {
      "image/png": "[encoded data removed]",
      "text/plain": [
       "<Figure size 432x288 with 1 Axes>"
      ]
     },
     "metadata": {},
     "output_type": "display_data"
    }
   ],
   "source": [
    "# То же самое, только по платящим пользователям. Видно, что в контрольной группе есть выбросы,\n",
    "# основные значения зажаты в некоем диапазоне.\n",
    "\n",
    "sns.boxplot(x='testgroup', y='revenue', data=df[df['revenue']>0])"
   ]
  },
  {
   "cell_type": "code",
   "execution_count": 14,
   "id": "eea92b3d",
   "metadata": {},
   "outputs": [
    {
     "data": {
      "text/plain": [
       "(-0.001, 1.0]         200175\n",
       "(199.0, 401.0]          1805\n",
       "(30000.0, 40000.0]       123\n",
       "(1.0, 199.0]               0\n",
       "(401.0, 30000.0]           0\n",
       "Name: revenue, dtype: int64"
      ]
     },
     "execution_count": 14,
     "metadata": {},
     "output_type": "execute_result"
    }
   ],
   "source": [
    "# Путем нехитрых манипуляций, понимаем, что значения котрольной группы распределены след.образом\n",
    "\n",
    "df_control.revenue.value_counts(bins=[0, 1, 199, 401, 30000, 40000])"
   ]
  },
  {
   "cell_type": "code",
   "execution_count": 15,
   "id": "cb5b4de8",
   "metadata": {},
   "outputs": [
    {
     "data": {
      "text/plain": [
       "<AxesSubplot:>"
      ]
     },
     "execution_count": 15,
     "metadata": {},
     "output_type": "execute_result"
    },
    {
     "data": {
      "image/png": "[encoded data removed]",
      "text/plain": [
       "<Figure size 432x288 with 1 Axes>"
      ]
     },
     "metadata": {},
     "output_type": "display_data"
    }
   ],
   "source": [
    "# Визуализируем\n",
    "\n",
    "df_control.revenue.hist()"
   ]
  },
  {
   "cell_type": "code",
   "execution_count": null,
   "id": "51b28723",
   "metadata": {},
   "outputs": [],
   "source": []
  },
  {
   "cell_type": "code",
   "execution_count": 16,
   "id": "f87ec960",
   "metadata": {},
   "outputs": [
    {
     "data": {
      "text/plain": [
       "(-0.001, 1.0]        200862\n",
       "(1999.0, 40000.0]      1805\n",
       "(1.0, 1999.0]             0\n",
       "Name: revenue, dtype: int64"
      ]
     },
     "execution_count": 16,
     "metadata": {},
     "output_type": "execute_result"
    }
   ],
   "source": [
    "# Проделываем то же самое с тестовой группой\n",
    "\n",
    "df_test.revenue.value_counts(bins=[0, 1, 1999, 40000])"
   ]
  },
  {
   "cell_type": "code",
   "execution_count": 17,
   "id": "45183fa9",
   "metadata": {},
   "outputs": [
    {
     "data": {
      "text/plain": [
       "<AxesSubplot:>"
      ]
     },
     "execution_count": 17,
     "metadata": {},
     "output_type": "execute_result"
    },
    {
     "data": {
      "image/png": "[encoded data removed]",
      "text/plain": [
       "<Figure size 432x288 with 1 Axes>"
      ]
     },
     "metadata": {},
     "output_type": "display_data"
    }
   ],
   "source": [
    "df_test.revenue.hist()"
   ]
  },
  {
   "cell_type": "code",
   "execution_count": 18,
   "id": "609af6d6",
   "metadata": {},
   "outputs": [],
   "source": [
    "# Очевидно, что распределения revenue в группах далеки от нормального...\n",
    "# Логарифмирование не поможет, избавляться от выбросов в контрольной группе тоже нельзя"
   ]
  },
  {
   "cell_type": "code",
   "execution_count": null,
   "id": "f397b0fe",
   "metadata": {},
   "outputs": [],
   "source": []
  },
  {
   "cell_type": "markdown",
   "id": "b9278e89",
   "metadata": {},
   "source": [
    "ARPU - средний доход на пользователя\n",
    "\n",
    "ARPPU - средний доход на платящего пользователя"
   ]
  },
  {
   "cell_type": "code",
   "execution_count": 19,
   "id": "c0af6b43",
   "metadata": {},
   "outputs": [],
   "source": [
    "# В нашем случае ARPU будет совпадать со средним в группе. Выведем его еще раз"
   ]
  },
  {
   "cell_type": "code",
   "execution_count": 20,
   "id": "b5e88959",
   "metadata": {},
   "outputs": [
    {
     "name": "stdout",
     "output_type": "stream",
     "text": [
      "ARPU тестовой группы 26.8\n",
      "ARPU котрольной группы 25.4\n"
     ]
    }
   ],
   "source": [
    "print(f\"ARPU тестовой группы {round(df_test['revenue'].mean(), 1)}\", \\\n",
    "      f\"ARPU котрольной группы {round(df_control['revenue'].mean(), 1)}\", \\\n",
    "      sep=\"\\n\")"
   ]
  },
  {
   "cell_type": "code",
   "execution_count": 21,
   "id": "2f0801aa",
   "metadata": {},
   "outputs": [
    {
     "data": {
      "text/plain": [
       "0.9539690157988748"
      ]
     },
     "metadata": {},
     "output_type": "display_data"
    },
    {
     "data": {
      "text/plain": [
       "0.8906235351586593"
      ]
     },
     "metadata": {},
     "output_type": "display_data"
    }
   ],
   "source": [
    "# При этом важно отметить, что процент платящих пользователей составляет менее 1% \n",
    "\n",
    "display(df_control[df_control['revenue']>0].shape[0] / df_control.shape[0]  * 100)\n",
    "display(df_test[df_test['revenue']>0].shape[0] / df_test.shape[0]  * 100)"
   ]
  },
  {
   "cell_type": "code",
   "execution_count": 22,
   "id": "4f74de27",
   "metadata": {},
   "outputs": [
    {
     "data": {
      "text/plain": [
       "LeveneResult(statistic=0.3896289474701388, pvalue=0.5324948591043842)"
      ]
     },
     "execution_count": 22,
     "metadata": {},
     "output_type": "execute_result"
    }
   ],
   "source": [
    "# Тест Левена на гомогенность дисперсий показывает, что они более менее одинаковы...\n",
    "# Учитывая характер распределения, полагаю, что сильно влияет большое количество нулевых значений\n",
    "\n",
    "ss.levene(df_control['revenue'], df_test['revenue'])"
   ]
  },
  {
   "cell_type": "markdown",
   "id": "d62bebe0",
   "metadata": {},
   "source": [
    "Итак, можем констатировать увеличение ARPU на 5%. Является ли это статистически значимым?\n",
    "Для проверки нужно подобрать подходящий стат.тест.\n",
    "\n",
    "В теории тест Стьюдента (t-тест) можно использовать при выполнении условий 1)нормальности распределения и 2)гомогенности дисперсий. При этом если количество наблюдений достаточно большое допустимо отклониться от требования нормальности распределения.\n",
    "\n",
    "Возможно, t-тест здесь и сработает, т.к. согласно ЦПТ выборочные средние имеют нормальное распределение, если количество наблюдений достаточно большое (у нас почти 2 тыс.), даже при не нормальности распределения ГС. \n",
    "\n",
    "Стоит отметить, что характер распределения и описательные статистики свидетельствуют о том, что среднее не лучшая мера центральной тенденции в имеющихся данных. Но, во-первых, мы проверяем изменился ли ARPU (а это среднее), во-вторых, проверять медиану бутстрэпом не имеет смылса, т.к. она в обеих группах == 0.\n",
    "\n",
    "Непараметрический тест Манна-Уитни тоже не совсем подходит, т.к. сравнивает не метрику, а среднее рангов.\n",
    "\n",
    "Тем не менее, посмотрим на результаты T-testа, U-testа и бутстрэпа по среднему."
   ]
  },
  {
   "cell_type": "code",
   "execution_count": 23,
   "id": "901eb07f",
   "metadata": {},
   "outputs": [],
   "source": [
    "control_all_users = df_control['revenue']\n",
    "test_all_users = df_test['revenue']"
   ]
  },
  {
   "cell_type": "code",
   "execution_count": 24,
   "id": "7dc34399",
   "metadata": {},
   "outputs": [
    {
     "data": {
      "text/plain": [
       "Ttest_indResult(statistic=-0.6242026493616787, pvalue=0.532494858971837)"
      ]
     },
     "execution_count": 24,
     "metadata": {},
     "output_type": "execute_result"
    }
   ],
   "source": [
    "# T-test ARPU\n",
    "\n",
    "ss.ttest_ind(control_all_users, test_all_users)"
   ]
  },
  {
   "cell_type": "code",
   "execution_count": 25,
   "id": "9a20c09a",
   "metadata": {},
   "outputs": [
    {
     "data": {
      "text/plain": [
       "MannwhitneyuResult(statistic=20491259376.0, pvalue=0.06269701316074398)"
      ]
     },
     "execution_count": 25,
     "metadata": {},
     "output_type": "execute_result"
    }
   ],
   "source": [
    "# U-test ARPU\n",
    "\n",
    "ss.mannwhitneyu(control_all_users, test_all_users)"
   ]
  },
  {
   "cell_type": "code",
   "execution_count": 26,
   "id": "45dddac5",
   "metadata": {},
   "outputs": [],
   "source": [
    "# Используем заготовленную функцию бутстрэп\n",
    "\n",
    "def get_bootstrap(\n",
    "    data_column_1, # числовые значения первой выборки\n",
    "    data_column_2, # числовые значения второй выборки\n",
    "    boot_it = 1000, # количество бутстрэп-подвыборок\n",
    "    statistic = np.mean, # интересующая нас статистика\n",
    "    bootstrap_conf_level = 0.95 # уровень значимости\n",
    "):\n",
    "    boot_data = []\n",
    "    for i in tqdm(range(boot_it)): # извлекаем подвыборки\n",
    "        samples_1 = data_column_1.sample(\n",
    "            len(data_column_1), \n",
    "            replace = True # параметр возвращения\n",
    "        ).values\n",
    "        \n",
    "        samples_2 = data_column_2.sample(\n",
    "            len(data_column_1), \n",
    "            replace = True\n",
    "        ).values\n",
    "        \n",
    "        boot_data.append(statistic(samples_1)-statistic(samples_2)) # mean() - применяем статистику\n",
    "        \n",
    "    pd_boot_data = pd.DataFrame(boot_data)\n",
    "        \n",
    "    left_quant = (1 - bootstrap_conf_level)/2\n",
    "    right_quant = 1 - (1 - bootstrap_conf_level) / 2\n",
    "    quants = pd_boot_data.quantile([left_quant, right_quant])\n",
    "        \n",
    "    p_1 = norm.cdf(\n",
    "        x = 0, \n",
    "        loc = np.mean(boot_data), \n",
    "        scale = np.std(boot_data)\n",
    "    )\n",
    "    p_2 = norm.cdf(\n",
    "        x = 0, \n",
    "        loc = -np.mean(boot_data), \n",
    "        scale = np.std(boot_data)\n",
    "    )\n",
    "    p_value = min(p_1, p_2) * 2\n",
    "        \n",
    "    # Визуализация\n",
    "    _, _, bars = plt.hist(pd_boot_data[0], bins = 50)\n",
    "    for bar in bars:\n",
    "        if bar.get_x() <= quants.iloc[0][0] or bar.get_x() >= quants.iloc[1][0]:\n",
    "            bar.set_facecolor('red')\n",
    "        else: \n",
    "            bar.set_facecolor('grey')\n",
    "            bar.set_edgecolor('black')\n",
    "    \n",
    "    plt.style.use('ggplot')\n",
    "    plt.vlines(quants,ymin=0,ymax=50,linestyle='--')\n",
    "    plt.xlabel('boot_data')\n",
    "    plt.ylabel('frequency')\n",
    "    plt.title(\"Histogram of boot_data\")\n",
    "    plt.show()\n",
    "    \n",
    "\n",
    "    return {\"boot_data\": boot_data, \n",
    "            \"quants\": quants, \n",
    "            \"p_value\": p_value}"
   ]
  },
  {
   "cell_type": "code",
   "execution_count": 27,
   "id": "b9d97e52",
   "metadata": {},
   "outputs": [
    {
     "data": {
      "application/vnd.jupyter.widget-view+json": {
       "model_id": "8d7d0a58fb2f495381ed48f1306d112d",
       "version_major": 2,
       "version_minor": 0
      },
      "text/plain": [
       "  0%|          | 0/1000 [00:00<?, ?it/s]"
      ]
     },
     "metadata": {},
     "output_type": "display_data"
    },
    {
     "data": {
      "image/png": "[encoded data removed]",
      "text/plain": [
       "<Figure size 432x288 with 1 Axes>"
      ]
     },
     "metadata": {},
     "output_type": "display_data"
    },
    {
     "data": {
      "text/plain": [
       "0.5236470791482337"
      ]
     },
     "execution_count": 27,
     "metadata": {},
     "output_type": "execute_result"
    }
   ],
   "source": [
    "# bootstrap по среднему ARPU\n",
    "\n",
    "booted_data = get_bootstrap(control_all_users, test_all_users, statistic = np.mean) \n",
    "booted_data['p_value']"
   ]
  },
  {
   "cell_type": "markdown",
   "id": "840cf7d9",
   "metadata": {},
   "source": [
    "Результаты трех тестов не позволяют отклонить нулевую гипотезу о равентстве средних. Считаю возможным по совокупности результатов тестов сделать вывод об отстуствии статистически значимых различий ARPU в группах."
   ]
  },
  {
   "cell_type": "code",
   "execution_count": null,
   "id": "15cf5fe0",
   "metadata": {},
   "outputs": [],
   "source": []
  },
  {
   "cell_type": "markdown",
   "id": "b556277d",
   "metadata": {},
   "source": [
    "Теперь посмотрим на ARPPU (среднее revenue по платящим юзерам)\n"
   ]
  },
  {
   "cell_type": "code",
   "execution_count": 28,
   "id": "2b078724",
   "metadata": {},
   "outputs": [
    {
     "name": "stdout",
     "output_type": "stream",
     "text": [
      "ARPPU тестовой группы 3003.7\n",
      "ARPPU котрольной группы 2664.0\n"
     ]
    }
   ],
   "source": [
    "print(f\"ARPPU тестовой группы {round(df_test[df_test['revenue']>0].revenue.mean(), 1)}\", \\\n",
    "    f\"ARPPU котрольной группы {round(df_control[df_control['revenue']>0].revenue.mean(), 1)}\", \\\n",
    "     sep='\\n')"
   ]
  },
  {
   "cell_type": "code",
   "execution_count": 29,
   "id": "be21b89f",
   "metadata": {},
   "outputs": [
    {
     "name": "stdout",
     "output_type": "stream",
     "text": [
      "ARPPU тестовой группы увеличился на 11.3 %\n"
     ]
    }
   ],
   "source": [
    "m = round((df_test[df_test['revenue']>0].revenue.mean() - df_control[df_control['revenue']>0].revenue.mean())\\\n",
    "    / df_test[df_test['revenue']>0].revenue.mean() *100, 1)\n",
    "    \n",
    "print(f'ARPPU тестовой группы увеличился на {m} %')"
   ]
  },
  {
   "cell_type": "code",
   "execution_count": 30,
   "id": "8f09cae3",
   "metadata": {},
   "outputs": [],
   "source": [
    "control_pay_users = df_control[df_control['revenue'] > 0]['revenue']\n",
    "test_pay_users = df_test[df_test['revenue'] > 0]['revenue']"
   ]
  },
  {
   "cell_type": "code",
   "execution_count": 31,
   "id": "fd266f05",
   "metadata": {},
   "outputs": [
    {
     "data": {
      "text/html": [
       "<div>\n",
       "<style scoped>\n",
       "    .dataframe tbody tr th:only-of-type {\n",
       "        vertical-align: middle;\n",
       "    }\n",
       "\n",
       "    .dataframe tbody tr th {\n",
       "        vertical-align: top;\n",
       "    }\n",
       "\n",
       "    .dataframe thead th {\n",
       "        text-align: right;\n",
       "    }\n",
       "</style>\n",
       "<table border=\"1\" class=\"dataframe\">\n",
       "  <thead>\n",
       "    <tr style=\"text-align: right;\">\n",
       "      <th></th>\n",
       "      <th>revenue</th>\n",
       "      <th>revenue</th>\n",
       "    </tr>\n",
       "  </thead>\n",
       "  <tbody>\n",
       "    <tr>\n",
       "      <th>count</th>\n",
       "      <td>1928.000000</td>\n",
       "      <td>1805.000000</td>\n",
       "    </tr>\n",
       "    <tr>\n",
       "      <th>mean</th>\n",
       "      <td>2663.998444</td>\n",
       "      <td>3003.658172</td>\n",
       "    </tr>\n",
       "    <tr>\n",
       "      <th>std</th>\n",
       "      <td>9049.039763</td>\n",
       "      <td>572.619709</td>\n",
       "    </tr>\n",
       "    <tr>\n",
       "      <th>min</th>\n",
       "      <td>200.000000</td>\n",
       "      <td>2000.000000</td>\n",
       "    </tr>\n",
       "    <tr>\n",
       "      <th>25%</th>\n",
       "      <td>257.000000</td>\n",
       "      <td>2513.000000</td>\n",
       "    </tr>\n",
       "    <tr>\n",
       "      <th>50%</th>\n",
       "      <td>311.000000</td>\n",
       "      <td>3022.000000</td>\n",
       "    </tr>\n",
       "    <tr>\n",
       "      <th>75%</th>\n",
       "      <td>361.000000</td>\n",
       "      <td>3478.000000</td>\n",
       "    </tr>\n",
       "    <tr>\n",
       "      <th>max</th>\n",
       "      <td>37433.000000</td>\n",
       "      <td>4000.000000</td>\n",
       "    </tr>\n",
       "  </tbody>\n",
       "</table>\n",
       "</div>"
      ],
      "text/plain": [
       "            revenue      revenue\n",
       "count   1928.000000  1805.000000\n",
       "mean    2663.998444  3003.658172\n",
       "std     9049.039763   572.619709\n",
       "min      200.000000  2000.000000\n",
       "25%      257.000000  2513.000000\n",
       "50%      311.000000  3022.000000\n",
       "75%      361.000000  3478.000000\n",
       "max    37433.000000  4000.000000"
      ]
     },
     "execution_count": 31,
     "metadata": {},
     "output_type": "execute_result"
    }
   ],
   "source": [
    "# Посмотрим на статистики платящих пользователей\n",
    "\n",
    "pd.concat([control_pay_users.describe(), test_pay_users.describe()], axis=1)"
   ]
  },
  {
   "cell_type": "code",
   "execution_count": 32,
   "id": "93d6cf68",
   "metadata": {},
   "outputs": [
    {
     "data": {
      "image/png": "[encoded data removed]",
      "text/plain": [
       "<Figure size 432x288 with 1 Axes>"
      ]
     },
     "execution_count": 32,
     "metadata": {},
     "output_type": "execute_result"
    },
    {
     "data": {
      "image/png": "[encoded data removed]",
      "text/plain": [
       "<Figure size 432x288 with 1 Axes>"
      ]
     },
     "metadata": {},
     "output_type": "display_data"
    }
   ],
   "source": [
    "# Визуализируем проверку на нормальность распределения\n",
    "\n",
    "sm.qqplot(test_pay_users, line='r')"
   ]
  },
  {
   "cell_type": "code",
   "execution_count": 33,
   "id": "5e3e44f6",
   "metadata": {},
   "outputs": [
    {
     "data": {
      "image/png": "[encoded data removed]",
      "text/plain": [
       "<Figure size 432x288 with 1 Axes>"
      ]
     },
     "execution_count": 33,
     "metadata": {},
     "output_type": "execute_result"
    },
    {
     "data": {
      "image/png": "[encoded data removed]",
      "text/plain": [
       "<Figure size 432x288 with 1 Axes>"
      ]
     },
     "metadata": {},
     "output_type": "display_data"
    }
   ],
   "source": [
    "sm.qqplot(control_pay_users, line='r')"
   ]
  },
  {
   "cell_type": "code",
   "execution_count": 34,
   "id": "cc9fc7a4",
   "metadata": {},
   "outputs": [
    {
     "data": {
      "text/plain": [
       "ShapiroResult(statistic=0.9613319039344788, pvalue=1.2883664412895895e-15)"
      ]
     },
     "execution_count": 34,
     "metadata": {},
     "output_type": "execute_result"
    }
   ],
   "source": [
    "# Тест Шапиро подтверждает вывод о ненормальности распределения\n",
    "\n",
    "ss.shapiro(test_pay_users.sample(1000, random_state=17))"
   ]
  },
  {
   "cell_type": "code",
   "execution_count": 35,
   "id": "31e83677",
   "metadata": {},
   "outputs": [
    {
     "data": {
      "text/plain": [
       "LeveneResult(statistic=80.85567421779912, pvalue=3.779689868667878e-19)"
      ]
     },
     "execution_count": 35,
     "metadata": {},
     "output_type": "execute_result"
    }
   ],
   "source": [
    "# Тест Левена на гомогенность дисперсий показывает, что условие гомогенности НЕ выполняется\n",
    "\n",
    "ss.levene(control_pay_users, test_pay_users)"
   ]
  },
  {
   "cell_type": "code",
   "execution_count": null,
   "id": "c5253303",
   "metadata": {},
   "outputs": [],
   "source": []
  },
  {
   "cell_type": "markdown",
   "id": "7141759b",
   "metadata": {},
   "source": [
    "Распределения в группах по-прежнему не являются нормальными, а дисперсии стали неоднородными, \n",
    "что не позволяет применить t-тест.\n",
    "\n",
    "Посмотрим, что нам дадут критерий Манна-Уитни, бутстрэп по среднему."
   ]
  },
  {
   "cell_type": "code",
   "execution_count": 36,
   "id": "106ba117",
   "metadata": {},
   "outputs": [
    {
     "data": {
      "text/plain": [
       "MannwhitneyuResult(statistic=222015.0, pvalue=0.0)"
      ]
     },
     "execution_count": 36,
     "metadata": {},
     "output_type": "execute_result"
    }
   ],
   "source": [
    "# U-test ARPPU\n",
    "\n",
    "ss.mannwhitneyu(control_pay_users, test_pay_users)"
   ]
  },
  {
   "cell_type": "code",
   "execution_count": 37,
   "id": "673e0e42",
   "metadata": {},
   "outputs": [
    {
     "data": {
      "application/vnd.jupyter.widget-view+json": {
       "model_id": "40694aece0734c87b250f4fc553f1973",
       "version_major": 2,
       "version_minor": 0
      },
      "text/plain": [
       "  0%|          | 0/1000 [00:00<?, ?it/s]"
      ]
     },
     "metadata": {},
     "output_type": "display_data"
    },
    {
     "data": {
      "image/png": "[encoded data removed]",
      "text/plain": [
       "<Figure size 432x288 with 1 Axes>"
      ]
     },
     "metadata": {},
     "output_type": "display_data"
    },
    {
     "data": {
      "text/plain": [
       "0.09049702662062578"
      ]
     },
     "execution_count": 37,
     "metadata": {},
     "output_type": "execute_result"
    }
   ],
   "source": [
    "# bootstrap по среднему ARPPU\n",
    "\n",
    "booted_data = get_bootstrap(control_pay_users, test_pay_users, statistic = np.mean) \n",
    "booted_data['p_value']"
   ]
  },
  {
   "cell_type": "markdown",
   "id": "dead1f13",
   "metadata": {},
   "source": [
    "В данном случае получили противоречивые результаты: Манна-Уитни позволяет отклонить нулевую гипотезу о равенстве средних, а бутстрап не позволяет. Но, как уже было отмечено, Манна-Уитни как непараметрический аналог t-теста оценивает среднее рангов (ближе к медиане), а бутстрэп среднее распределения, т.е. нужный нам ARPPU. Поэтому общий вывод: недостаточно оснавний для отклонения нулевой гипотезы о равенстве средних.\n",
    "\n",
    "Кроме того, рост ARPPU далеко не всегда явлется благом для продукта. В нашем случае точно не благо, т.к. paying share (доля платящих пользователей уменьшилась) на 6,6%*"
   ]
  },
  {
   "cell_type": "code",
   "execution_count": 38,
   "id": "17b77178",
   "metadata": {},
   "outputs": [
    {
     "data": {
      "text/plain": [
       "6.6402031503264904"
      ]
     },
     "execution_count": 38,
     "metadata": {},
     "output_type": "execute_result"
    }
   ],
   "source": [
    "#*\n",
    "(control_pay_users.shape[0] / df_control.shape[0] *100\\\n",
    "- test_pay_users.shape[0] / df_test.shape[0] *100)\\\n",
    "/(control_pay_users.shape[0] / df_control.shape[0] *100) *100"
   ]
  },
  {
   "cell_type": "code",
   "execution_count": 39,
   "id": "466fefeb",
   "metadata": {},
   "outputs": [],
   "source": [
    "# Проверим стат.значимость изменения paying share методом хи-квадрат, \n",
    "# т.к. будем оперировать номинативными переменными"
   ]
  },
  {
   "cell_type": "code",
   "execution_count": 40,
   "id": "1a5d0243",
   "metadata": {},
   "outputs": [
    {
     "data": {
      "text/html": [
       "<div>\n",
       "<style scoped>\n",
       "    .dataframe tbody tr th:only-of-type {\n",
       "        vertical-align: middle;\n",
       "    }\n",
       "\n",
       "    .dataframe tbody tr th {\n",
       "        vertical-align: top;\n",
       "    }\n",
       "\n",
       "    .dataframe thead th {\n",
       "        text-align: right;\n",
       "    }\n",
       "</style>\n",
       "<table border=\"1\" class=\"dataframe\">\n",
       "  <thead>\n",
       "    <tr style=\"text-align: right;\">\n",
       "      <th>testgroup</th>\n",
       "      <th>a</th>\n",
       "      <th>b</th>\n",
       "    </tr>\n",
       "    <tr>\n",
       "      <th>is_pay</th>\n",
       "      <th></th>\n",
       "      <th></th>\n",
       "    </tr>\n",
       "  </thead>\n",
       "  <tbody>\n",
       "    <tr>\n",
       "      <th>notpay</th>\n",
       "      <td>200175</td>\n",
       "      <td>200862</td>\n",
       "    </tr>\n",
       "    <tr>\n",
       "      <th>pay</th>\n",
       "      <td>1928</td>\n",
       "      <td>1805</td>\n",
       "    </tr>\n",
       "  </tbody>\n",
       "</table>\n",
       "</div>"
      ],
      "text/plain": [
       "testgroup       a       b\n",
       "is_pay                   \n",
       "notpay     200175  200862\n",
       "pay          1928    1805"
      ]
     },
     "execution_count": 40,
     "metadata": {},
     "output_type": "execute_result"
    }
   ],
   "source": [
    "df['is_pay'] = df['revenue'].apply(lambda x: 'pay' if x > 0 else 'notpay')\n",
    "pd.crosstab(df.is_pay, df.testgroup)"
   ]
  },
  {
   "cell_type": "code",
   "execution_count": 41,
   "id": "787e8bc6",
   "metadata": {},
   "outputs": [],
   "source": [
    "stat, p, dof, expected = chi2_contingency(pd.crosstab(df.is_pay, df.testgroup))"
   ]
  },
  {
   "cell_type": "code",
   "execution_count": 42,
   "id": "169fc2ee",
   "metadata": {},
   "outputs": [
    {
     "name": "stdout",
     "output_type": "stream",
     "text": [
      "Отклоняем H0\n"
     ]
    }
   ],
   "source": [
    "prob = 0.95\n",
    "critical = chi2.ppf(prob, dof)\n",
    "if abs(stat) >= critical:\n",
    "    print('Отклоняем H0')\n",
    "else:\n",
    "    print('Не отклоняем H0')\n"
   ]
  },
  {
   "cell_type": "code",
   "execution_count": 43,
   "id": "18d0572d",
   "metadata": {},
   "outputs": [
    {
     "name": "stdout",
     "output_type": "stream",
     "text": [
      "Отклоняем H0\n"
     ]
    }
   ],
   "source": [
    "prob = 0.95\n",
    "alpha = 1.0 - prob\n",
    "if p <= alpha:\n",
    "    print('Отклоняем H0')\n",
    "else:\n",
    "    print('Не отклоняем H0')"
   ]
  },
  {
   "cell_type": "markdown",
   "id": "055c592a",
   "metadata": {},
   "source": [
    "Результат теста показал, что статистически значимо уменьшился paying share, что для продукта не есть хорошо. Вкупе с тем, что мы не смогли в результате тестов доказать стат.значимость роста ни ARPU, ни ARPPU, тестовый набор акционных предложений нельзя признать более успешным.\n",
    "\n",
    "Но не все так однозначно)\n",
    "\n",
    "В тестовой группе в 10 раз выросла медиана и др.квартили. В целом распределение revenue в тестовой группе более равномерное, без выбросов. Предположу, такое распределение предпочтительней для денежных метрик продукта, т.к. более устойчиво и предсказуемо будет вести себя тот же ARPU.\n",
    "\n",
    "Проверим гипотезу: в тестовой группе при отвале рандомных 5% платящих пользователей ARPU \n",
    "будет более стабилен нежели в контрольной группе (диапазон изменений ARPU в тесте меньше, чем в контроле)"
   ]
  },
  {
   "cell_type": "code",
   "execution_count": null,
   "id": "eec432b0",
   "metadata": {},
   "outputs": [],
   "source": []
  },
  {
   "cell_type": "code",
   "execution_count": 44,
   "id": "93152c26",
   "metadata": {},
   "outputs": [
    {
     "data": {
      "application/vnd.jupyter.widget-view+json": {
       "model_id": "1f22c9e58d3141a1a4dba9bfd3196fa6",
       "version_major": 2,
       "version_minor": 0
      },
      "text/plain": [
       "  0%|          | 0/500 [00:00<?, ?it/s]"
      ]
     },
     "metadata": {},
     "output_type": "display_data"
    }
   ],
   "source": [
    "ARPU_control_mean = df_control['revenue'].mean()\n",
    "ARPU_test_mean = df_test['revenue'].mean()\n",
    "\n",
    "l = []\n",
    "m = []\n",
    "\n",
    "for i in tqdm(range(500)):\n",
    "    # получаем рэндом сэмпл 5% платящих пользователей \n",
    "    users_c = df_control.query(\"revenue > 0\")['user_id'].sample(frac=0.05, replace=True)\n",
    "    users_t = df_test.query(\"revenue > 0\")['user_id'].sample(frac=0.05, replace=True)\n",
    "        \n",
    "    # получаем серию revenue по группам исключая рэндом сэмпл 5%\n",
    "    control_all_sample = df_control.query(\"user_id not in @users_c\")['revenue']\n",
    "    test_all_sample = df_test.query(\"user_id not in @users_t\")['revenue']\n",
    "    \n",
    "    # считаем % отклонения ARPU сэмпла от ARPU в группе и записываем сперва в список, потом в серию\n",
    "    l.append((ARPU_control_mean - control_all_sample.mean()) / ARPU_control_mean * 100)\n",
    "    m.append((ARPU_test_mean - test_all_sample.mean()) / ARPU_test_mean * 100)\n",
    "        \n",
    "control_mean_diff = pd.Series(l)\n",
    "test_mean_diff = pd.Series(m)\n"
   ]
  },
  {
   "cell_type": "code",
   "execution_count": 45,
   "id": "75cb659d",
   "metadata": {},
   "outputs": [
    {
     "data": {
      "text/html": [
       "<div>\n",
       "<style scoped>\n",
       "    .dataframe tbody tr th:only-of-type {\n",
       "        vertical-align: middle;\n",
       "    }\n",
       "\n",
       "    .dataframe tbody tr th {\n",
       "        vertical-align: top;\n",
       "    }\n",
       "\n",
       "    .dataframe thead th {\n",
       "        text-align: right;\n",
       "    }\n",
       "</style>\n",
       "<table border=\"1\" class=\"dataframe\">\n",
       "  <thead>\n",
       "    <tr style=\"text-align: right;\">\n",
       "      <th></th>\n",
       "      <th>0</th>\n",
       "      <th>1</th>\n",
       "    </tr>\n",
       "  </thead>\n",
       "  <tbody>\n",
       "    <tr>\n",
       "      <th>count</th>\n",
       "      <td>500.000000</td>\n",
       "      <td>500.000000</td>\n",
       "    </tr>\n",
       "    <tr>\n",
       "      <th>mean</th>\n",
       "      <td>4.884827</td>\n",
       "      <td>4.824188</td>\n",
       "    </tr>\n",
       "    <tr>\n",
       "      <th>std</th>\n",
       "      <td>1.636528</td>\n",
       "      <td>0.124882</td>\n",
       "    </tr>\n",
       "    <tr>\n",
       "      <th>min</th>\n",
       "      <td>0.510702</td>\n",
       "      <td>4.415312</td>\n",
       "    </tr>\n",
       "    <tr>\n",
       "      <th>25%</th>\n",
       "      <td>3.411685</td>\n",
       "      <td>4.735181</td>\n",
       "    </tr>\n",
       "    <tr>\n",
       "      <th>50%</th>\n",
       "      <td>4.828536</td>\n",
       "      <td>4.818792</td>\n",
       "    </tr>\n",
       "    <tr>\n",
       "      <th>75%</th>\n",
       "      <td>5.573490</td>\n",
       "      <td>4.916203</td>\n",
       "    </tr>\n",
       "    <tr>\n",
       "      <th>max</th>\n",
       "      <td>9.168238</td>\n",
       "      <td>5.207422</td>\n",
       "    </tr>\n",
       "  </tbody>\n",
       "</table>\n",
       "</div>"
      ],
      "text/plain": [
       "                0           1\n",
       "count  500.000000  500.000000\n",
       "mean     4.884827    4.824188\n",
       "std      1.636528    0.124882\n",
       "min      0.510702    4.415312\n",
       "25%      3.411685    4.735181\n",
       "50%      4.828536    4.818792\n",
       "75%      5.573490    4.916203\n",
       "max      9.168238    5.207422"
      ]
     },
     "execution_count": 45,
     "metadata": {},
     "output_type": "execute_result"
    }
   ],
   "source": [
    "pd.concat([control_mean_diff.describe(), test_mean_diff.describe()], axis=1)"
   ]
  },
  {
   "cell_type": "code",
   "execution_count": 46,
   "id": "373e8ea0",
   "metadata": {},
   "outputs": [
    {
     "data": {
      "application/vnd.jupyter.widget-view+json": {
       "model_id": "d03282b4a44f4901aae16f6dae8b323f",
       "version_major": 2,
       "version_minor": 0
      },
      "text/plain": [
       "  0%|          | 0/1000 [00:00<?, ?it/s]"
      ]
     },
     "metadata": {},
     "output_type": "display_data"
    },
    {
     "data": {
      "image/png": "[encoded data removed]",
      "text/plain": [
       "<Figure size 432x288 with 1 Axes>"
      ]
     },
     "metadata": {},
     "output_type": "display_data"
    },
    {
     "data": {
      "text/plain": [
       "4.770160621223616e-58"
      ]
     },
     "execution_count": 46,
     "metadata": {},
     "output_type": "execute_result"
    }
   ],
   "source": [
    "# Поскольку проверяем диапазон изменчивости для оценки нам нужна дисперисия и бутстрэп\n",
    "\n",
    "booted_data = get_bootstrap(control_mean_diff, test_mean_diff, statistic = np.var) \n",
    "booted_data['p_value']"
   ]
  },
  {
   "cell_type": "markdown",
   "id": "15c54476",
   "metadata": {},
   "source": [
    "p-value < 0,05 - Тестом подтверждена гипотеза о меньшей изменчивости ARPU в тестовой группе при УМЕНЬШЕНИИ количества платящих пользователей. Проверим аналогичную гипотезу для случая УВЕЛИЧЕНИЯ рандомных платящих пользователей на те же 5%."
   ]
  },
  {
   "cell_type": "code",
   "execution_count": 47,
   "id": "5e1aaed4",
   "metadata": {},
   "outputs": [
    {
     "data": {
      "application/vnd.jupyter.widget-view+json": {
       "model_id": "65c23d2bf770470c9bebb51a9280cef2",
       "version_major": 2,
       "version_minor": 0
      },
      "text/plain": [
       "  0%|          | 0/500 [00:00<?, ?it/s]"
      ]
     },
     "metadata": {},
     "output_type": "display_data"
    }
   ],
   "source": [
    "ARPU_control_mean = df_control['revenue'].mean()\n",
    "ARPU_test_mean = df_test['revenue'].mean()\n",
    "\n",
    "l = []\n",
    "m = []\n",
    "\n",
    "for i in tqdm(range(500)):\n",
    "    # получаем рэндом сэмпл 5% платящих пользователей \n",
    "    users_c = df_control.query(\"revenue > 0\")['revenue'].sample(frac=0.05, replace=True)\n",
    "    users_t = df_test.query(\"revenue > 0\")['revenue'].sample(frac=0.05, replace=True)\n",
    "        \n",
    "    # получаем серию revenue по группам ВКЛЮЧАЯ рэндом сэмпл 5%\n",
    "    control_add_sample = pd.concat([control_all_users, users_c])\n",
    "    test_ad_sample = pd.concat([test_all_users, users_t])\n",
    "    \n",
    "    # считаем % отклонения ARPU сэмпла от ARPU в группе и записываем сперва в список, потом в серию\n",
    "    l.append((ARPU_control_mean - control_add_sample.mean()) / ARPU_control_mean * 100)\n",
    "    m.append((ARPU_test_mean - test_ad_sample.mean()) / ARPU_test_mean * 100)\n",
    "        \n",
    "control_mean_diff = pd.Series(l)\n",
    "test_mean_diff = pd.Series(m)"
   ]
  },
  {
   "cell_type": "code",
   "execution_count": 48,
   "id": "7390d9b2",
   "metadata": {},
   "outputs": [
    {
     "data": {
      "text/html": [
       "<div>\n",
       "<style scoped>\n",
       "    .dataframe tbody tr th:only-of-type {\n",
       "        vertical-align: middle;\n",
       "    }\n",
       "\n",
       "    .dataframe tbody tr th {\n",
       "        vertical-align: top;\n",
       "    }\n",
       "\n",
       "    .dataframe thead th {\n",
       "        text-align: right;\n",
       "    }\n",
       "</style>\n",
       "<table border=\"1\" class=\"dataframe\">\n",
       "  <thead>\n",
       "    <tr style=\"text-align: right;\">\n",
       "      <th></th>\n",
       "      <th>0</th>\n",
       "      <th>1</th>\n",
       "    </tr>\n",
       "  </thead>\n",
       "  <tbody>\n",
       "    <tr>\n",
       "      <th>count</th>\n",
       "      <td>500.000000</td>\n",
       "      <td>500.000000</td>\n",
       "    </tr>\n",
       "    <tr>\n",
       "      <th>mean</th>\n",
       "      <td>-4.824149</td>\n",
       "      <td>-4.938045</td>\n",
       "    </tr>\n",
       "    <tr>\n",
       "      <th>std</th>\n",
       "      <td>1.799188</td>\n",
       "      <td>0.096784</td>\n",
       "    </tr>\n",
       "    <tr>\n",
       "      <th>min</th>\n",
       "      <td>-11.338225</td>\n",
       "      <td>-5.221420</td>\n",
       "    </tr>\n",
       "    <tr>\n",
       "      <th>25%</th>\n",
       "      <td>-6.271839</td>\n",
       "      <td>-5.000209</td>\n",
       "    </tr>\n",
       "    <tr>\n",
       "      <th>50%</th>\n",
       "      <td>-4.835712</td>\n",
       "      <td>-4.936419</td>\n",
       "    </tr>\n",
       "    <tr>\n",
       "      <th>75%</th>\n",
       "      <td>-3.402737</td>\n",
       "      <td>-4.866844</td>\n",
       "    </tr>\n",
       "    <tr>\n",
       "      <th>max</th>\n",
       "      <td>-0.505763</td>\n",
       "      <td>-4.691462</td>\n",
       "    </tr>\n",
       "  </tbody>\n",
       "</table>\n",
       "</div>"
      ],
      "text/plain": [
       "                0           1\n",
       "count  500.000000  500.000000\n",
       "mean    -4.824149   -4.938045\n",
       "std      1.799188    0.096784\n",
       "min    -11.338225   -5.221420\n",
       "25%     -6.271839   -5.000209\n",
       "50%     -4.835712   -4.936419\n",
       "75%     -3.402737   -4.866844\n",
       "max     -0.505763   -4.691462"
      ]
     },
     "execution_count": 48,
     "metadata": {},
     "output_type": "execute_result"
    }
   ],
   "source": [
    "pd.concat([control_mean_diff.describe(), test_mean_diff.describe()], axis=1)"
   ]
  },
  {
   "cell_type": "code",
   "execution_count": 49,
   "id": "5f15fd5f",
   "metadata": {},
   "outputs": [
    {
     "data": {
      "application/vnd.jupyter.widget-view+json": {
       "model_id": "be90ba9d3e094059b88b4e27074ee6ca",
       "version_major": 2,
       "version_minor": 0
      },
      "text/plain": [
       "  0%|          | 0/1000 [00:00<?, ?it/s]"
      ]
     },
     "metadata": {},
     "output_type": "display_data"
    },
    {
     "data": {
      "image/png": "[encoded data removed]",
      "text/plain": [
       "<Figure size 432x288 with 1 Axes>"
      ]
     },
     "metadata": {},
     "output_type": "display_data"
    },
    {
     "data": {
      "text/plain": [
       "2.248162647373573e-48"
      ]
     },
     "execution_count": 49,
     "metadata": {},
     "output_type": "execute_result"
    }
   ],
   "source": [
    "# Поскольку проверяем диапазон изменчивости для оценки нам нужна дисперисия и бутстрэп\n",
    "\n",
    "booted_data = get_bootstrap(control_mean_diff, test_mean_diff, statistic = np.var) \n",
    "booted_data['p_value']"
   ]
  },
  {
   "cell_type": "code",
   "execution_count": null,
   "id": "12191706",
   "metadata": {},
   "outputs": [],
   "source": []
  },
  {
   "cell_type": "markdown",
   "id": "14560618",
   "metadata": {},
   "source": [
    "Вариативность отклонения ARPU в контрольной группе при изменении количества платящих пользователей стат. значимо больше чем в тестовой, что подтверждает гипотезу о более \"стабильном\" распределении revenue в тесте. Для бизнеса это может быть полезным, например, при планировании различных денежных метрик, т.к. эти метрики будут менее чувствительны к неизбежным колебаниям количества платящих пользователей.\n",
    "\n",
    "В целом можно сделать следующий вывод:\n",
    "\n",
    "В результате проведенного А/В теста мы не можем с опорой на статистику утверждать, что тестовый акционный набор позволит нам зарабатывать больше. Напротив, такая важная метрика как доля платящих пользователей стат.значимо ухудшилась. В то же время в результате А/В теста наблюдаем полезный эффект в виде более равномерного распределения revenue и 10-ти кратного увеличения медианы. Изменение распределения как в тестовой группе может принести бизнесу пользу. Поэтому есть основания обратить внимание продакта на этот эффект и обсудить с ним, что более важно для развития продукта."
   ]
  },
  {
   "cell_type": "code",
   "execution_count": null,
   "id": "3a8c8742",
   "metadata": {},
   "outputs": [],
   "source": []
  }
 ],
 "metadata": {
  "kernelspec": {
   "display_name": "Python 3 (ipykernel)",
   "language": "python",
   "name": "python3"
  },
  "language_info": {
   "codemirror_mode": {
    "name": "ipython",
    "version": 3
   },
   "file_extension": ".py",
   "mimetype": "text/x-python",
   "name": "python",
   "nbconvert_exporter": "python",
   "pygments_lexer": "ipython3",
   "version": "3.9.12"
  }
 },
 "nbformat": 4,
 "nbformat_minor": 5
}
